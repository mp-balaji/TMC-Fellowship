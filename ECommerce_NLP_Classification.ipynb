{
 "cells": [
  {
   "cell_type": "markdown",
   "id": "03dcfde5",
   "metadata": {},
   "source": [
    "# Problem Statement\n",
    "\n",
    "\n",
    "Classify the description of E-commerce products into 4 categories by implementing any NLP approach for analysis and modeling on the provided dataset. The objective is to recognize whether the given description is related to Electronics (0), Households (1), Books (2), or Clothing & Accessories (3) products. Focus majorly on unique preprocessing techniques."
   ]
  },
  {
   "cell_type": "markdown",
   "id": "57946281",
   "metadata": {},
   "source": [
    "### Importing all the necessary libraries"
   ]
  },
  {
   "cell_type": "code",
   "execution_count": 148,
   "id": "44ca23ea",
   "metadata": {},
   "outputs": [],
   "source": [
    "# Importing the necessary libraries along with the standard import\n",
    "\n",
    "import numpy as np \n",
    "import pandas as pd \n",
    "import re # this is the regular expression library which helps us manipulate text (strings) fairly easily and intuitively\n",
    "import nltk # this is the Natural Language Tool Kit which contains a lot of functionalities for text analytics\n",
    "import matplotlib.pyplot as plt\n",
    "import string # this is used for string manipulations\n",
    "import matplotlib\n",
    "import seaborn as sns"
   ]
  },
  {
   "cell_type": "markdown",
   "id": "a3290653",
   "metadata": {},
   "source": [
    "### Data Dictionary:\n",
    "\n",
    "Category : Refers to the category of products based on their description [Electronics, Households, Books, Clothing & Accessories]\n",
    "\n",
    "Text : Description of a product"
   ]
  },
  {
   "cell_type": "code",
   "execution_count": 149,
   "id": "fd7b61ed",
   "metadata": {},
   "outputs": [],
   "source": [
    "# Loading the dataset\n",
    "\n",
    "Ecom = pd.read_csv(\"ecommerceDataset.csv/ecommerceDataset.csv\")"
   ]
  },
  {
   "cell_type": "code",
   "execution_count": 150,
   "id": "5698605e",
   "metadata": {},
   "outputs": [
    {
     "data": {
      "text/html": [
       "<div>\n",
       "<style scoped>\n",
       "    .dataframe tbody tr th:only-of-type {\n",
       "        vertical-align: middle;\n",
       "    }\n",
       "\n",
       "    .dataframe tbody tr th {\n",
       "        vertical-align: top;\n",
       "    }\n",
       "\n",
       "    .dataframe thead th {\n",
       "        text-align: right;\n",
       "    }\n",
       "</style>\n",
       "<table border=\"1\" class=\"dataframe\">\n",
       "  <thead>\n",
       "    <tr style=\"text-align: right;\">\n",
       "      <th></th>\n",
       "      <th>Household</th>\n",
       "      <th>Paper Plane Design Framed Wall Hanging Motivational Office Decor Art Prints (8.7 X 8.7 inch) - Set of 4 Painting made up in synthetic frame with uv textured print which gives multi effects and attracts towards it. This is an special series of paintings which makes your wall very beautiful and gives a royal touch. This painting is ready to hang, you would be proud to possess this unique painting that is a niche apart. We use only the most modern and efficient printing technology on our prints, with only the and inks and precision epson, roland and hp printers. This innovative hd printing technique results in durable and spectacular looking prints of the highest that last a lifetime. We print solely with top-notch 100% inks, to achieve brilliant and true colours. Due to their high level of uv resistance, our prints retain their beautiful colours for many years. Add colour and style to your living space with this digitally printed painting. Some are for pleasure and some for eternal bliss.so bring home this elegant print that is lushed with rich colors that makes it nothing but sheer elegance to be to your friends and family.it would be treasured forever by whoever your lucky recipient is. Liven up your place with these intriguing paintings that are high definition hd graphic digital prints for home, office or any room.</th>\n",
       "    </tr>\n",
       "  </thead>\n",
       "  <tbody>\n",
       "    <tr>\n",
       "      <th>0</th>\n",
       "      <td>Household</td>\n",
       "      <td>SAF 'Floral' Framed Painting (Wood, 30 inch x ...</td>\n",
       "    </tr>\n",
       "    <tr>\n",
       "      <th>1</th>\n",
       "      <td>Household</td>\n",
       "      <td>SAF 'UV Textured Modern Art Print Framed' Pain...</td>\n",
       "    </tr>\n",
       "    <tr>\n",
       "      <th>2</th>\n",
       "      <td>Household</td>\n",
       "      <td>SAF Flower Print Framed Painting (Synthetic, 1...</td>\n",
       "    </tr>\n",
       "    <tr>\n",
       "      <th>3</th>\n",
       "      <td>Household</td>\n",
       "      <td>Incredible Gifts India Wooden Happy Birthday U...</td>\n",
       "    </tr>\n",
       "    <tr>\n",
       "      <th>4</th>\n",
       "      <td>Household</td>\n",
       "      <td>Pitaara Box Romantic Venice Canvas Painting 6m...</td>\n",
       "    </tr>\n",
       "  </tbody>\n",
       "</table>\n",
       "</div>"
      ],
      "text/plain": [
       "   Household  \\\n",
       "0  Household   \n",
       "1  Household   \n",
       "2  Household   \n",
       "3  Household   \n",
       "4  Household   \n",
       "\n",
       "  Paper Plane Design Framed Wall Hanging Motivational Office Decor Art Prints (8.7 X 8.7 inch) - Set of 4 Painting made up in synthetic frame with uv textured print which gives multi effects and attracts towards it. This is an special series of paintings which makes your wall very beautiful and gives a royal touch. This painting is ready to hang, you would be proud to possess this unique painting that is a niche apart. We use only the most modern and efficient printing technology on our prints, with only the and inks and precision epson, roland and hp printers. This innovative hd printing technique results in durable and spectacular looking prints of the highest that last a lifetime. We print solely with top-notch 100% inks, to achieve brilliant and true colours. Due to their high level of uv resistance, our prints retain their beautiful colours for many years. Add colour and style to your living space with this digitally printed painting. Some are for pleasure and some for eternal bliss.so bring home this elegant print that is lushed with rich colors that makes it nothing but sheer elegance to be to your friends and family.it would be treasured forever by whoever your lucky recipient is. Liven up your place with these intriguing paintings that are high definition hd graphic digital prints for home, office or any room.  \n",
       "0  SAF 'Floral' Framed Painting (Wood, 30 inch x ...                                                                                                                                                                                                                                                                                                                                                                                                                                                                                                                                                                                                                                                                                                                                                                                                                                                                                                                                                                                                                                                                                                                                                                                                                                                                                                                                          \n",
       "1  SAF 'UV Textured Modern Art Print Framed' Pain...                                                                                                                                                                                                                                                                                                                                                                                                                                                                                                                                                                                                                                                                                                                                                                                                                                                                                                                                                                                                                                                                                                                                                                                                                                                                                                                                          \n",
       "2  SAF Flower Print Framed Painting (Synthetic, 1...                                                                                                                                                                                                                                                                                                                                                                                                                                                                                                                                                                                                                                                                                                                                                                                                                                                                                                                                                                                                                                                                                                                                                                                                                                                                                                                                          \n",
       "3  Incredible Gifts India Wooden Happy Birthday U...                                                                                                                                                                                                                                                                                                                                                                                                                                                                                                                                                                                                                                                                                                                                                                                                                                                                                                                                                                                                                                                                                                                                                                                                                                                                                                                                          \n",
       "4  Pitaara Box Romantic Venice Canvas Painting 6m...                                                                                                                                                                                                                                                                                                                                                                                                                                                                                                                                                                                                                                                                                                                                                                                                                                                                                                                                                                                                                                                                                                                                                                                                                                                                                                                                          "
      ]
     },
     "execution_count": 150,
     "metadata": {},
     "output_type": "execute_result"
    }
   ],
   "source": [
    "# Checking the first 5 rows of the dataset\n",
    "Ecom.head()"
   ]
  },
  {
   "cell_type": "markdown",
   "id": "f07938f8",
   "metadata": {},
   "source": [
    "Since the first row is coming as a column name, we need to add column names to the dataset"
   ]
  },
  {
   "cell_type": "code",
   "execution_count": 151,
   "id": "2a421231",
   "metadata": {},
   "outputs": [],
   "source": [
    "# Adding columns to the data frame\n",
    "colnames = ['Category','Text']\n",
    "Ecom = pd.read_csv(\"ecommerceDataset.csv/ecommerceDataset.csv\",names=colnames, header=None)"
   ]
  },
  {
   "cell_type": "code",
   "execution_count": 152,
   "id": "d3be8a7c",
   "metadata": {},
   "outputs": [
    {
     "data": {
      "text/html": [
       "<div>\n",
       "<style scoped>\n",
       "    .dataframe tbody tr th:only-of-type {\n",
       "        vertical-align: middle;\n",
       "    }\n",
       "\n",
       "    .dataframe tbody tr th {\n",
       "        vertical-align: top;\n",
       "    }\n",
       "\n",
       "    .dataframe thead th {\n",
       "        text-align: right;\n",
       "    }\n",
       "</style>\n",
       "<table border=\"1\" class=\"dataframe\">\n",
       "  <thead>\n",
       "    <tr style=\"text-align: right;\">\n",
       "      <th></th>\n",
       "      <th>Category</th>\n",
       "      <th>Text</th>\n",
       "    </tr>\n",
       "  </thead>\n",
       "  <tbody>\n",
       "    <tr>\n",
       "      <th>0</th>\n",
       "      <td>Household</td>\n",
       "      <td>Paper Plane Design Framed Wall Hanging Motivat...</td>\n",
       "    </tr>\n",
       "    <tr>\n",
       "      <th>1</th>\n",
       "      <td>Household</td>\n",
       "      <td>SAF 'Floral' Framed Painting (Wood, 30 inch x ...</td>\n",
       "    </tr>\n",
       "    <tr>\n",
       "      <th>2</th>\n",
       "      <td>Household</td>\n",
       "      <td>SAF 'UV Textured Modern Art Print Framed' Pain...</td>\n",
       "    </tr>\n",
       "    <tr>\n",
       "      <th>3</th>\n",
       "      <td>Household</td>\n",
       "      <td>SAF Flower Print Framed Painting (Synthetic, 1...</td>\n",
       "    </tr>\n",
       "    <tr>\n",
       "      <th>4</th>\n",
       "      <td>Household</td>\n",
       "      <td>Incredible Gifts India Wooden Happy Birthday U...</td>\n",
       "    </tr>\n",
       "  </tbody>\n",
       "</table>\n",
       "</div>"
      ],
      "text/plain": [
       "    Category                                               Text\n",
       "0  Household  Paper Plane Design Framed Wall Hanging Motivat...\n",
       "1  Household  SAF 'Floral' Framed Painting (Wood, 30 inch x ...\n",
       "2  Household  SAF 'UV Textured Modern Art Print Framed' Pain...\n",
       "3  Household  SAF Flower Print Framed Painting (Synthetic, 1...\n",
       "4  Household  Incredible Gifts India Wooden Happy Birthday U..."
      ]
     },
     "execution_count": 152,
     "metadata": {},
     "output_type": "execute_result"
    }
   ],
   "source": [
    "# Checking the first 5 rows of the dataset\n",
    "Ecom.head()"
   ]
  },
  {
   "cell_type": "code",
   "execution_count": 153,
   "id": "5ff6c21e",
   "metadata": {
    "scrolled": true
   },
   "outputs": [
    {
     "name": "stdout",
     "output_type": "stream",
     "text": [
      "<class 'pandas.core.frame.DataFrame'>\n",
      "RangeIndex: 50425 entries, 0 to 50424\n",
      "Data columns (total 2 columns):\n",
      " #   Column    Non-Null Count  Dtype \n",
      "---  ------    --------------  ----- \n",
      " 0   Category  50425 non-null  object\n",
      " 1   Text      50424 non-null  object\n",
      "dtypes: object(2)\n",
      "memory usage: 788.0+ KB\n"
     ]
    }
   ],
   "source": [
    "#Check for the info of the data set\n",
    "Ecom.info()"
   ]
  },
  {
   "cell_type": "code",
   "execution_count": 154,
   "id": "05484efb",
   "metadata": {},
   "outputs": [
    {
     "data": {
      "text/html": [
       "<div>\n",
       "<style scoped>\n",
       "    .dataframe tbody tr th:only-of-type {\n",
       "        vertical-align: middle;\n",
       "    }\n",
       "\n",
       "    .dataframe tbody tr th {\n",
       "        vertical-align: top;\n",
       "    }\n",
       "\n",
       "    .dataframe thead th {\n",
       "        text-align: right;\n",
       "    }\n",
       "</style>\n",
       "<table border=\"1\" class=\"dataframe\">\n",
       "  <thead>\n",
       "    <tr style=\"text-align: right;\">\n",
       "      <th></th>\n",
       "      <th>Category</th>\n",
       "      <th>Text</th>\n",
       "    </tr>\n",
       "  </thead>\n",
       "  <tbody>\n",
       "    <tr>\n",
       "      <th>count</th>\n",
       "      <td>50425</td>\n",
       "      <td>50424</td>\n",
       "    </tr>\n",
       "    <tr>\n",
       "      <th>unique</th>\n",
       "      <td>4</td>\n",
       "      <td>27802</td>\n",
       "    </tr>\n",
       "    <tr>\n",
       "      <th>top</th>\n",
       "      <td>Household</td>\n",
       "      <td>Think &amp; Grow Rich About the Author NAPOLEON HI...</td>\n",
       "    </tr>\n",
       "    <tr>\n",
       "      <th>freq</th>\n",
       "      <td>19313</td>\n",
       "      <td>30</td>\n",
       "    </tr>\n",
       "  </tbody>\n",
       "</table>\n",
       "</div>"
      ],
      "text/plain": [
       "         Category                                               Text\n",
       "count       50425                                              50424\n",
       "unique          4                                              27802\n",
       "top     Household  Think & Grow Rich About the Author NAPOLEON HI...\n",
       "freq        19313                                                 30"
      ]
     },
     "execution_count": 154,
     "metadata": {},
     "output_type": "execute_result"
    }
   ],
   "source": [
    "#Descriptive summary of the data\n",
    "Ecom.describe()"
   ]
  },
  {
   "cell_type": "markdown",
   "id": "4aea966e",
   "metadata": {},
   "source": [
    "#### Observation:\n",
    "• Both columns are of string data type\n",
    "\n",
    "• There are 50425 products overall, divided into 4 distinct groups.\n",
    "\n",
    "• A significant majority of the items are of the household kind.\n",
    "\n",
    "• There is one missing value in Text column\n"
   ]
  },
  {
   "cell_type": "markdown",
   "id": "2fc94258",
   "metadata": {},
   "source": [
    "#### Checking for presence of null values"
   ]
  },
  {
   "cell_type": "code",
   "execution_count": 155,
   "id": "eadbced0",
   "metadata": {},
   "outputs": [
    {
     "data": {
      "text/plain": [
       "Category    0\n",
       "Text        1\n",
       "dtype: int64"
      ]
     },
     "execution_count": 155,
     "metadata": {},
     "output_type": "execute_result"
    }
   ],
   "source": [
    "Ecom.isnull().sum()\n",
    "\n",
    "#Inference : Text contains 1 value"
   ]
  },
  {
   "cell_type": "code",
   "execution_count": 156,
   "id": "29882a52",
   "metadata": {},
   "outputs": [
    {
     "data": {
      "text/html": [
       "<div>\n",
       "<style scoped>\n",
       "    .dataframe tbody tr th:only-of-type {\n",
       "        vertical-align: middle;\n",
       "    }\n",
       "\n",
       "    .dataframe tbody tr th {\n",
       "        vertical-align: top;\n",
       "    }\n",
       "\n",
       "    .dataframe thead th {\n",
       "        text-align: right;\n",
       "    }\n",
       "</style>\n",
       "<table border=\"1\" class=\"dataframe\">\n",
       "  <thead>\n",
       "    <tr style=\"text-align: right;\">\n",
       "      <th></th>\n",
       "      <th>Category</th>\n",
       "      <th>Text</th>\n",
       "    </tr>\n",
       "  </thead>\n",
       "  <tbody>\n",
       "    <tr>\n",
       "      <th>39330</th>\n",
       "      <td>Clothing &amp; Accessories</td>\n",
       "      <td>NaN</td>\n",
       "    </tr>\n",
       "  </tbody>\n",
       "</table>\n",
       "</div>"
      ],
      "text/plain": [
       "                     Category Text\n",
       "39330  Clothing & Accessories  NaN"
      ]
     },
     "execution_count": 156,
     "metadata": {},
     "output_type": "execute_result"
    }
   ],
   "source": [
    "#Missing entry\n",
    "Ecom[Ecom['Text'].isnull()]"
   ]
  },
  {
   "cell_type": "markdown",
   "id": "1a9b8f18",
   "metadata": {},
   "source": [
    "Since there is only one missing value, we can remove it"
   ]
  },
  {
   "cell_type": "code",
   "execution_count": 157,
   "id": "c2d30f4e",
   "metadata": {},
   "outputs": [],
   "source": [
    "Ecom.dropna(inplace=True)"
   ]
  },
  {
   "cell_type": "code",
   "execution_count": 158,
   "id": "c237a5df",
   "metadata": {},
   "outputs": [
    {
     "data": {
      "text/plain": [
       "Category    0\n",
       "Text        0\n",
       "dtype: int64"
      ]
     },
     "execution_count": 158,
     "metadata": {},
     "output_type": "execute_result"
    }
   ],
   "source": [
    "# The null row has been removed\n",
    "Ecom.isnull().sum()"
   ]
  },
  {
   "cell_type": "markdown",
   "id": "b8fe983a",
   "metadata": {},
   "source": [
    "#### Checking for duplicate rows"
   ]
  },
  {
   "cell_type": "code",
   "execution_count": 159,
   "id": "59634a27",
   "metadata": {},
   "outputs": [
    {
     "name": "stdout",
     "output_type": "stream",
     "text": [
      "Number of duplicate rows= 22622\n"
     ]
    },
    {
     "data": {
      "text/html": [
       "<div>\n",
       "<style scoped>\n",
       "    .dataframe tbody tr th:only-of-type {\n",
       "        vertical-align: middle;\n",
       "    }\n",
       "\n",
       "    .dataframe tbody tr th {\n",
       "        vertical-align: top;\n",
       "    }\n",
       "\n",
       "    .dataframe thead th {\n",
       "        text-align: right;\n",
       "    }\n",
       "</style>\n",
       "<table border=\"1\" class=\"dataframe\">\n",
       "  <thead>\n",
       "    <tr style=\"text-align: right;\">\n",
       "      <th></th>\n",
       "      <th>Category</th>\n",
       "      <th>Text</th>\n",
       "    </tr>\n",
       "  </thead>\n",
       "  <tbody>\n",
       "    <tr>\n",
       "      <th>7</th>\n",
       "      <td>Household</td>\n",
       "      <td>Pitaara Box Romantic Venice Canvas Painting 6m...</td>\n",
       "    </tr>\n",
       "    <tr>\n",
       "      <th>11</th>\n",
       "      <td>Household</td>\n",
       "      <td>Paper Plane Design Starry Night Vangoh Wall Ar...</td>\n",
       "    </tr>\n",
       "    <tr>\n",
       "      <th>12</th>\n",
       "      <td>Household</td>\n",
       "      <td>Pitaara Box Romantic Venice Canvas Painting 6m...</td>\n",
       "    </tr>\n",
       "    <tr>\n",
       "      <th>16</th>\n",
       "      <td>Household</td>\n",
       "      <td>SAF Flower Print Framed Painting (Synthetic, 1...</td>\n",
       "    </tr>\n",
       "    <tr>\n",
       "      <th>20</th>\n",
       "      <td>Household</td>\n",
       "      <td>SAF 'UV Textured Modern Art Print Framed' Pain...</td>\n",
       "    </tr>\n",
       "  </tbody>\n",
       "</table>\n",
       "</div>"
      ],
      "text/plain": [
       "     Category                                               Text\n",
       "7   Household  Pitaara Box Romantic Venice Canvas Painting 6m...\n",
       "11  Household  Paper Plane Design Starry Night Vangoh Wall Ar...\n",
       "12  Household  Pitaara Box Romantic Venice Canvas Painting 6m...\n",
       "16  Household  SAF Flower Print Framed Painting (Synthetic, 1...\n",
       "20  Household  SAF 'UV Textured Modern Art Print Framed' Pain..."
      ]
     },
     "execution_count": 159,
     "metadata": {},
     "output_type": "execute_result"
    }
   ],
   "source": [
    "duplicate_records=Ecom.duplicated()\n",
    "\n",
    "print('Number of duplicate rows= %d' % (duplicate_records.sum()))\n",
    "\n",
    "Ecom[duplicate_records].head()"
   ]
  },
  {
   "cell_type": "code",
   "execution_count": 160,
   "id": "4e079a5b",
   "metadata": {},
   "outputs": [
    {
     "name": "stdout",
     "output_type": "stream",
     "text": [
      "44.863557036331905% of the entries are duplicate\n"
     ]
    }
   ],
   "source": [
    "print('{}% of the entries are duplicate'.format((duplicate_records.sum()/len(Ecom['Text']))*100))"
   ]
  },
  {
   "cell_type": "markdown",
   "id": "7ddd48f3",
   "metadata": {},
   "source": [
    "All the duplicate rows can be removed as they do not contribute much to the model's true performance."
   ]
  },
  {
   "cell_type": "code",
   "execution_count": 161,
   "id": "85e1c46e",
   "metadata": {},
   "outputs": [
    {
     "name": "stdout",
     "output_type": "stream",
     "text": [
      "Before removing the duplicate rows (50424, 2)\n",
      "After removing the duplicate rows (27802, 2)\n"
     ]
    }
   ],
   "source": [
    "print('Before removing the duplicate rows',Ecom.shape)\n",
    "Ecom.drop_duplicates(inplace=True) \n",
    "print('After removing the duplicate rows',Ecom.shape)"
   ]
  },
  {
   "cell_type": "markdown",
   "id": "eab46610",
   "metadata": {},
   "source": [
    "#### Exploratory data analysis"
   ]
  },
  {
   "cell_type": "code",
   "execution_count": 162,
   "id": "1511fd1f",
   "metadata": {},
   "outputs": [
    {
     "data": {
      "text/plain": [
       "Household                 10564\n",
       "Books                      6256\n",
       "Clothing & Accessories     5674\n",
       "Electronics                5308\n",
       "Name: Category, dtype: int64"
      ]
     },
     "execution_count": 162,
     "metadata": {},
     "output_type": "execute_result"
    }
   ],
   "source": [
    "#Checking the unique values of category column\n",
    "Ecom['Category'].value_counts()"
   ]
  },
  {
   "cell_type": "code",
   "execution_count": 163,
   "id": "605fbba9",
   "metadata": {},
   "outputs": [
    {
     "data": {
      "image/png": "[encoded data removed]",
      "text/plain": [
       "<Figure size 432x288 with 1 Axes>"
      ]
     },
     "metadata": {
      "needs_background": "light"
     },
     "output_type": "display_data"
    }
   ],
   "source": [
    "# plotting Countplot for Cut\n",
    "labels = Ecom.Category.value_counts(normalize=True).index\n",
    "plt.title('Countplot for Category')\n",
    "sns.countplot(data=Ecom,x=Ecom['Category'],palette='coolwarm',order=labels)\n",
    "plt.xticks(rotation=45)\n",
    "plt.show()"
   ]
  },
  {
   "cell_type": "code",
   "execution_count": 164,
   "id": "810569aa",
   "metadata": {},
   "outputs": [
    {
     "data": {
      "image/png": "[encoded data removed]",
      "text/plain": [
       "<Figure size 720x576 with 1 Axes>"
      ]
     },
     "metadata": {},
     "output_type": "display_data"
    }
   ],
   "source": [
    "values = Ecom.Category.value_counts(normalize=True).values\n",
    "labels = Ecom.Category.value_counts(normalize=True).index\n",
    "#colors = ['#003f5c','#58508d','#bc5090','#ff6361','#ffa600']\n",
    "\n",
    "plt.figure(figsize=(10,8))\n",
    "plt.pie(x= values,explode=[0.02,0.02,0.02,0.02],autopct='%1.0f%%',wedgeprops=\n",
    "       {'edgecolor':'black'})\n",
    "plt.title('% Distribution of Categories')\n",
    "plt.legend(labels=labels, loc='upper center', \n",
    "           bbox_to_anchor=(0.5,-0.04), ncol=2)\n",
    "plt.show()"
   ]
  },
  {
   "cell_type": "markdown",
   "id": "ffca5eb2",
   "metadata": {},
   "source": [
    "#### Observation\n",
    "\n",
    "We can observe that household items are around twice as many as each of the following categories: electronics, books, clothing, and accessories."
   ]
  },
  {
   "cell_type": "markdown",
   "id": "37442df4",
   "metadata": {},
   "source": [
    "### Basic Exploration in Text Mining"
   ]
  },
  {
   "cell_type": "markdown",
   "id": "7878d074",
   "metadata": {},
   "source": [
    "#### Total words in each product's description"
   ]
  },
  {
   "cell_type": "code",
   "execution_count": 165,
   "id": "66bb5142",
   "metadata": {},
   "outputs": [
    {
     "data": {
      "text/html": [
       "<div>\n",
       "<style scoped>\n",
       "    .dataframe tbody tr th:only-of-type {\n",
       "        vertical-align: middle;\n",
       "    }\n",
       "\n",
       "    .dataframe tbody tr th {\n",
       "        vertical-align: top;\n",
       "    }\n",
       "\n",
       "    .dataframe thead th {\n",
       "        text-align: right;\n",
       "    }\n",
       "</style>\n",
       "<table border=\"1\" class=\"dataframe\">\n",
       "  <thead>\n",
       "    <tr style=\"text-align: right;\">\n",
       "      <th></th>\n",
       "      <th>Category</th>\n",
       "      <th>Text</th>\n",
       "      <th>Total_Words</th>\n",
       "    </tr>\n",
       "  </thead>\n",
       "  <tbody>\n",
       "    <tr>\n",
       "      <th>0</th>\n",
       "      <td>Household</td>\n",
       "      <td>Paper Plane Design Framed Wall Hanging Motivat...</td>\n",
       "      <td>228</td>\n",
       "    </tr>\n",
       "    <tr>\n",
       "      <th>1</th>\n",
       "      <td>Household</td>\n",
       "      <td>SAF 'Floral' Framed Painting (Wood, 30 inch x ...</td>\n",
       "      <td>59</td>\n",
       "    </tr>\n",
       "    <tr>\n",
       "      <th>2</th>\n",
       "      <td>Household</td>\n",
       "      <td>SAF 'UV Textured Modern Art Print Framed' Pain...</td>\n",
       "      <td>331</td>\n",
       "    </tr>\n",
       "    <tr>\n",
       "      <th>3</th>\n",
       "      <td>Household</td>\n",
       "      <td>SAF Flower Print Framed Painting (Synthetic, 1...</td>\n",
       "      <td>291</td>\n",
       "    </tr>\n",
       "    <tr>\n",
       "      <th>4</th>\n",
       "      <td>Household</td>\n",
       "      <td>Incredible Gifts India Wooden Happy Birthday U...</td>\n",
       "      <td>186</td>\n",
       "    </tr>\n",
       "  </tbody>\n",
       "</table>\n",
       "</div>"
      ],
      "text/plain": [
       "    Category                                               Text  Total_Words\n",
       "0  Household  Paper Plane Design Framed Wall Hanging Motivat...          228\n",
       "1  Household  SAF 'Floral' Framed Painting (Wood, 30 inch x ...           59\n",
       "2  Household  SAF 'UV Textured Modern Art Print Framed' Pain...          331\n",
       "3  Household  SAF Flower Print Framed Painting (Synthetic, 1...          291\n",
       "4  Household  Incredible Gifts India Wooden Happy Birthday U...          186"
      ]
     },
     "execution_count": 165,
     "metadata": {},
     "output_type": "execute_result"
    }
   ],
   "source": [
    "# Checking for total no of words in each product's description\n",
    "df = Ecom.copy()\n",
    "df['Total_Words'] = df['Text'].apply(lambda x: len(str(x).split(\" \")))\n",
    "df.head()"
   ]
  },
  {
   "cell_type": "code",
   "execution_count": 166,
   "id": "2f73ad8d",
   "metadata": {},
   "outputs": [
    {
     "data": {
      "text/plain": [
       "Category\n",
       "Books                     143.800192\n",
       "Clothing & Accessories     73.543179\n",
       "Electronics               137.624341\n",
       "Household                 112.365013\n",
       "Name: Total_Words, dtype: float64"
      ]
     },
     "execution_count": 166,
     "metadata": {},
     "output_type": "execute_result"
    }
   ],
   "source": [
    "df.groupby(by='Category').mean()['Total_Words']"
   ]
  },
  {
   "cell_type": "markdown",
   "id": "36cfadbd",
   "metadata": {},
   "source": [
    "Inference:\n",
    "\n",
    "Clothing category description contains lesser words than the other 3"
   ]
  },
  {
   "cell_type": "markdown",
   "id": "c70dd310",
   "metadata": {},
   "source": [
    "#### Total characters in each product's description"
   ]
  },
  {
   "cell_type": "code",
   "execution_count": 167,
   "id": "8d24e891",
   "metadata": {},
   "outputs": [
    {
     "data": {
      "text/html": [
       "<div>\n",
       "<style scoped>\n",
       "    .dataframe tbody tr th:only-of-type {\n",
       "        vertical-align: middle;\n",
       "    }\n",
       "\n",
       "    .dataframe tbody tr th {\n",
       "        vertical-align: top;\n",
       "    }\n",
       "\n",
       "    .dataframe thead th {\n",
       "        text-align: right;\n",
       "    }\n",
       "</style>\n",
       "<table border=\"1\" class=\"dataframe\">\n",
       "  <thead>\n",
       "    <tr style=\"text-align: right;\">\n",
       "      <th></th>\n",
       "      <th>Category</th>\n",
       "      <th>Text</th>\n",
       "      <th>Total_Words</th>\n",
       "      <th>Total_Characters</th>\n",
       "    </tr>\n",
       "  </thead>\n",
       "  <tbody>\n",
       "    <tr>\n",
       "      <th>0</th>\n",
       "      <td>Household</td>\n",
       "      <td>Paper Plane Design Framed Wall Hanging Motivat...</td>\n",
       "      <td>228</td>\n",
       "      <td>1338</td>\n",
       "    </tr>\n",
       "    <tr>\n",
       "      <th>1</th>\n",
       "      <td>Household</td>\n",
       "      <td>SAF 'Floral' Framed Painting (Wood, 30 inch x ...</td>\n",
       "      <td>59</td>\n",
       "      <td>346</td>\n",
       "    </tr>\n",
       "    <tr>\n",
       "      <th>2</th>\n",
       "      <td>Household</td>\n",
       "      <td>SAF 'UV Textured Modern Art Print Framed' Pain...</td>\n",
       "      <td>331</td>\n",
       "      <td>1316</td>\n",
       "    </tr>\n",
       "    <tr>\n",
       "      <th>3</th>\n",
       "      <td>Household</td>\n",
       "      <td>SAF Flower Print Framed Painting (Synthetic, 1...</td>\n",
       "      <td>291</td>\n",
       "      <td>1091</td>\n",
       "    </tr>\n",
       "    <tr>\n",
       "      <th>4</th>\n",
       "      <td>Household</td>\n",
       "      <td>Incredible Gifts India Wooden Happy Birthday U...</td>\n",
       "      <td>186</td>\n",
       "      <td>989</td>\n",
       "    </tr>\n",
       "  </tbody>\n",
       "</table>\n",
       "</div>"
      ],
      "text/plain": [
       "    Category                                               Text  Total_Words  \\\n",
       "0  Household  Paper Plane Design Framed Wall Hanging Motivat...          228   \n",
       "1  Household  SAF 'Floral' Framed Painting (Wood, 30 inch x ...           59   \n",
       "2  Household  SAF 'UV Textured Modern Art Print Framed' Pain...          331   \n",
       "3  Household  SAF Flower Print Framed Painting (Synthetic, 1...          291   \n",
       "4  Household  Incredible Gifts India Wooden Happy Birthday U...          186   \n",
       "\n",
       "   Total_Characters  \n",
       "0              1338  \n",
       "1               346  \n",
       "2              1316  \n",
       "3              1091  \n",
       "4               989  "
      ]
     },
     "execution_count": 167,
     "metadata": {},
     "output_type": "execute_result"
    }
   ],
   "source": [
    "#Checking for total no of characters including white spaces in each product's description\n",
    "df['Total_Characters'] = df['Text'].str.len()\n",
    "df.head()"
   ]
  },
  {
   "cell_type": "markdown",
   "id": "f3d6ae72",
   "metadata": {},
   "source": [
    "#### Average word length of each product description"
   ]
  },
  {
   "cell_type": "code",
   "execution_count": 168,
   "id": "5e20115f",
   "metadata": {},
   "outputs": [
    {
     "data": {
      "text/html": [
       "<div>\n",
       "<style scoped>\n",
       "    .dataframe tbody tr th:only-of-type {\n",
       "        vertical-align: middle;\n",
       "    }\n",
       "\n",
       "    .dataframe tbody tr th {\n",
       "        vertical-align: top;\n",
       "    }\n",
       "\n",
       "    .dataframe thead th {\n",
       "        text-align: right;\n",
       "    }\n",
       "</style>\n",
       "<table border=\"1\" class=\"dataframe\">\n",
       "  <thead>\n",
       "    <tr style=\"text-align: right;\">\n",
       "      <th></th>\n",
       "      <th>Category</th>\n",
       "      <th>Text</th>\n",
       "      <th>Total_Words</th>\n",
       "      <th>Total_Characters</th>\n",
       "      <th>Avg_Word_Length</th>\n",
       "    </tr>\n",
       "  </thead>\n",
       "  <tbody>\n",
       "    <tr>\n",
       "      <th>0</th>\n",
       "      <td>Household</td>\n",
       "      <td>Paper Plane Design Framed Wall Hanging Motivat...</td>\n",
       "      <td>228</td>\n",
       "      <td>1338</td>\n",
       "      <td>4.872807</td>\n",
       "    </tr>\n",
       "    <tr>\n",
       "      <th>1</th>\n",
       "      <td>Household</td>\n",
       "      <td>SAF 'Floral' Framed Painting (Wood, 30 inch x ...</td>\n",
       "      <td>59</td>\n",
       "      <td>346</td>\n",
       "      <td>4.881356</td>\n",
       "    </tr>\n",
       "    <tr>\n",
       "      <th>2</th>\n",
       "      <td>Household</td>\n",
       "      <td>SAF 'UV Textured Modern Art Print Framed' Pain...</td>\n",
       "      <td>331</td>\n",
       "      <td>1316</td>\n",
       "      <td>4.392857</td>\n",
       "    </tr>\n",
       "    <tr>\n",
       "      <th>3</th>\n",
       "      <td>Household</td>\n",
       "      <td>SAF Flower Print Framed Painting (Synthetic, 1...</td>\n",
       "      <td>291</td>\n",
       "      <td>1091</td>\n",
       "      <td>4.342391</td>\n",
       "    </tr>\n",
       "    <tr>\n",
       "      <th>4</th>\n",
       "      <td>Household</td>\n",
       "      <td>Incredible Gifts India Wooden Happy Birthday U...</td>\n",
       "      <td>186</td>\n",
       "      <td>989</td>\n",
       "      <td>4.369565</td>\n",
       "    </tr>\n",
       "  </tbody>\n",
       "</table>\n",
       "</div>"
      ],
      "text/plain": [
       "    Category                                               Text  Total_Words  \\\n",
       "0  Household  Paper Plane Design Framed Wall Hanging Motivat...          228   \n",
       "1  Household  SAF 'Floral' Framed Painting (Wood, 30 inch x ...           59   \n",
       "2  Household  SAF 'UV Textured Modern Art Print Framed' Pain...          331   \n",
       "3  Household  SAF Flower Print Framed Painting (Synthetic, 1...          291   \n",
       "4  Household  Incredible Gifts India Wooden Happy Birthday U...          186   \n",
       "\n",
       "   Total_Characters  Avg_Word_Length  \n",
       "0              1338         4.872807  \n",
       "1               346         4.881356  \n",
       "2              1316         4.392857  \n",
       "3              1091         4.342391  \n",
       "4               989         4.369565  "
      ]
     },
     "execution_count": 168,
     "metadata": {},
     "output_type": "execute_result"
    }
   ],
   "source": [
    "#Checking for the average word length of each product description\n",
    "def avg_word(sentence):\n",
    "    words = sentence.split() #splitting the words separately from the input taken\n",
    "    return (sum(len(word) for word in words)/len(words)) # getting the average number of words in the each of the entries\n",
    "\n",
    "df['Avg_Word_Length'] = df['Text'].apply(lambda x: avg_word(str(x)))\n",
    "df.head()"
   ]
  },
  {
   "cell_type": "markdown",
   "id": "203e787d",
   "metadata": {},
   "source": [
    "#### Total number of stop words in each description"
   ]
  },
  {
   "cell_type": "code",
   "execution_count": 169,
   "id": "5c492c33",
   "metadata": {},
   "outputs": [
    {
     "data": {
      "text/html": [
       "<div>\n",
       "<style scoped>\n",
       "    .dataframe tbody tr th:only-of-type {\n",
       "        vertical-align: middle;\n",
       "    }\n",
       "\n",
       "    .dataframe tbody tr th {\n",
       "        vertical-align: top;\n",
       "    }\n",
       "\n",
       "    .dataframe thead th {\n",
       "        text-align: right;\n",
       "    }\n",
       "</style>\n",
       "<table border=\"1\" class=\"dataframe\">\n",
       "  <thead>\n",
       "    <tr style=\"text-align: right;\">\n",
       "      <th></th>\n",
       "      <th>Category</th>\n",
       "      <th>Text</th>\n",
       "      <th>Total_Words</th>\n",
       "      <th>Total_Characters</th>\n",
       "      <th>Avg_Word_Length</th>\n",
       "      <th>Stopwords</th>\n",
       "    </tr>\n",
       "  </thead>\n",
       "  <tbody>\n",
       "    <tr>\n",
       "      <th>0</th>\n",
       "      <td>Household</td>\n",
       "      <td>Paper Plane Design Framed Wall Hanging Motivat...</td>\n",
       "      <td>228</td>\n",
       "      <td>1338</td>\n",
       "      <td>4.872807</td>\n",
       "      <td>97</td>\n",
       "    </tr>\n",
       "    <tr>\n",
       "      <th>1</th>\n",
       "      <td>Household</td>\n",
       "      <td>SAF 'Floral' Framed Painting (Wood, 30 inch x ...</td>\n",
       "      <td>59</td>\n",
       "      <td>346</td>\n",
       "      <td>4.881356</td>\n",
       "      <td>19</td>\n",
       "    </tr>\n",
       "    <tr>\n",
       "      <th>2</th>\n",
       "      <td>Household</td>\n",
       "      <td>SAF 'UV Textured Modern Art Print Framed' Pain...</td>\n",
       "      <td>331</td>\n",
       "      <td>1316</td>\n",
       "      <td>4.392857</td>\n",
       "      <td>100</td>\n",
       "    </tr>\n",
       "    <tr>\n",
       "      <th>3</th>\n",
       "      <td>Household</td>\n",
       "      <td>SAF Flower Print Framed Painting (Synthetic, 1...</td>\n",
       "      <td>291</td>\n",
       "      <td>1091</td>\n",
       "      <td>4.342391</td>\n",
       "      <td>84</td>\n",
       "    </tr>\n",
       "    <tr>\n",
       "      <th>4</th>\n",
       "      <td>Household</td>\n",
       "      <td>Incredible Gifts India Wooden Happy Birthday U...</td>\n",
       "      <td>186</td>\n",
       "      <td>989</td>\n",
       "      <td>4.369565</td>\n",
       "      <td>0</td>\n",
       "    </tr>\n",
       "  </tbody>\n",
       "</table>\n",
       "</div>"
      ],
      "text/plain": [
       "    Category                                               Text  Total_Words  \\\n",
       "0  Household  Paper Plane Design Framed Wall Hanging Motivat...          228   \n",
       "1  Household  SAF 'Floral' Framed Painting (Wood, 30 inch x ...           59   \n",
       "2  Household  SAF 'UV Textured Modern Art Print Framed' Pain...          331   \n",
       "3  Household  SAF Flower Print Framed Painting (Synthetic, 1...          291   \n",
       "4  Household  Incredible Gifts India Wooden Happy Birthday U...          186   \n",
       "\n",
       "   Total_Characters  Avg_Word_Length  Stopwords  \n",
       "0              1338         4.872807         97  \n",
       "1               346         4.881356         19  \n",
       "2              1316         4.392857        100  \n",
       "3              1091         4.342391         84  \n",
       "4               989         4.369565          0  "
      ]
     },
     "execution_count": 169,
     "metadata": {},
     "output_type": "execute_result"
    }
   ],
   "source": [
    "#Checking for number of stop words in each product description\n",
    "from nltk.corpus import stopwords\n",
    "stop = stopwords.words()\n",
    "\n",
    "df['Stopwords'] = df['Text'].apply(lambda x: len([x for x in str(x).split() if x in stop]))\n",
    "df.head()"
   ]
  },
  {
   "cell_type": "markdown",
   "id": "3d5eb9d9",
   "metadata": {},
   "source": [
    "#### Total number of numeric characters in each description"
   ]
  },
  {
   "cell_type": "code",
   "execution_count": 170,
   "id": "ee4253e8",
   "metadata": {},
   "outputs": [
    {
     "data": {
      "text/html": [
       "<div>\n",
       "<style scoped>\n",
       "    .dataframe tbody tr th:only-of-type {\n",
       "        vertical-align: middle;\n",
       "    }\n",
       "\n",
       "    .dataframe tbody tr th {\n",
       "        vertical-align: top;\n",
       "    }\n",
       "\n",
       "    .dataframe thead th {\n",
       "        text-align: right;\n",
       "    }\n",
       "</style>\n",
       "<table border=\"1\" class=\"dataframe\">\n",
       "  <thead>\n",
       "    <tr style=\"text-align: right;\">\n",
       "      <th></th>\n",
       "      <th>Category</th>\n",
       "      <th>Text</th>\n",
       "      <th>Total_Words</th>\n",
       "      <th>Total_Characters</th>\n",
       "      <th>Avg_Word_Length</th>\n",
       "      <th>Stopwords</th>\n",
       "      <th>Numerics</th>\n",
       "    </tr>\n",
       "  </thead>\n",
       "  <tbody>\n",
       "    <tr>\n",
       "      <th>0</th>\n",
       "      <td>Household</td>\n",
       "      <td>Paper Plane Design Framed Wall Hanging Motivat...</td>\n",
       "      <td>228</td>\n",
       "      <td>1338</td>\n",
       "      <td>4.872807</td>\n",
       "      <td>97</td>\n",
       "      <td>8</td>\n",
       "    </tr>\n",
       "    <tr>\n",
       "      <th>1</th>\n",
       "      <td>Household</td>\n",
       "      <td>SAF 'Floral' Framed Painting (Wood, 30 inch x ...</td>\n",
       "      <td>59</td>\n",
       "      <td>346</td>\n",
       "      <td>4.881356</td>\n",
       "      <td>19</td>\n",
       "      <td>7</td>\n",
       "    </tr>\n",
       "    <tr>\n",
       "      <th>2</th>\n",
       "      <td>Household</td>\n",
       "      <td>SAF 'UV Textured Modern Art Print Framed' Pain...</td>\n",
       "      <td>331</td>\n",
       "      <td>1316</td>\n",
       "      <td>4.392857</td>\n",
       "      <td>100</td>\n",
       "      <td>11</td>\n",
       "    </tr>\n",
       "    <tr>\n",
       "      <th>3</th>\n",
       "      <td>Household</td>\n",
       "      <td>SAF Flower Print Framed Painting (Synthetic, 1...</td>\n",
       "      <td>291</td>\n",
       "      <td>1091</td>\n",
       "      <td>4.342391</td>\n",
       "      <td>84</td>\n",
       "      <td>15</td>\n",
       "    </tr>\n",
       "    <tr>\n",
       "      <th>4</th>\n",
       "      <td>Household</td>\n",
       "      <td>Incredible Gifts India Wooden Happy Birthday U...</td>\n",
       "      <td>186</td>\n",
       "      <td>989</td>\n",
       "      <td>4.369565</td>\n",
       "      <td>0</td>\n",
       "      <td>4</td>\n",
       "    </tr>\n",
       "  </tbody>\n",
       "</table>\n",
       "</div>"
      ],
      "text/plain": [
       "    Category                                               Text  Total_Words  \\\n",
       "0  Household  Paper Plane Design Framed Wall Hanging Motivat...          228   \n",
       "1  Household  SAF 'Floral' Framed Painting (Wood, 30 inch x ...           59   \n",
       "2  Household  SAF 'UV Textured Modern Art Print Framed' Pain...          331   \n",
       "3  Household  SAF Flower Print Framed Painting (Synthetic, 1...          291   \n",
       "4  Household  Incredible Gifts India Wooden Happy Birthday U...          186   \n",
       "\n",
       "   Total_Characters  Avg_Word_Length  Stopwords  Numerics  \n",
       "0              1338         4.872807         97         8  \n",
       "1               346         4.881356         19         7  \n",
       "2              1316         4.392857        100        11  \n",
       "3              1091         4.342391         84        15  \n",
       "4               989         4.369565          0         4  "
      ]
     },
     "execution_count": 170,
     "metadata": {},
     "output_type": "execute_result"
    }
   ],
   "source": [
    "df['Numerics'] = df['Text'].apply(lambda x: len(re.findall(r'[0-9]',x)))\n",
    "df.head()"
   ]
  },
  {
   "cell_type": "code",
   "execution_count": 171,
   "id": "c661efd0",
   "metadata": {},
   "outputs": [
    {
     "data": {
      "text/html": [
       "<div>\n",
       "<style scoped>\n",
       "    .dataframe tbody tr th:only-of-type {\n",
       "        vertical-align: middle;\n",
       "    }\n",
       "\n",
       "    .dataframe tbody tr th {\n",
       "        vertical-align: top;\n",
       "    }\n",
       "\n",
       "    .dataframe thead th {\n",
       "        text-align: right;\n",
       "    }\n",
       "</style>\n",
       "<table border=\"1\" class=\"dataframe\">\n",
       "  <thead>\n",
       "    <tr style=\"text-align: right;\">\n",
       "      <th></th>\n",
       "      <th>Total_Words</th>\n",
       "      <th>Total_Characters</th>\n",
       "      <th>Avg_Word_Length</th>\n",
       "      <th>Stopwords</th>\n",
       "      <th>Numerics</th>\n",
       "    </tr>\n",
       "  </thead>\n",
       "  <tbody>\n",
       "    <tr>\n",
       "      <th>count</th>\n",
       "      <td>27802.000000</td>\n",
       "      <td>27802.000000</td>\n",
       "      <td>27802.000000</td>\n",
       "      <td>27802.000000</td>\n",
       "      <td>27802.000000</td>\n",
       "    </tr>\n",
       "    <tr>\n",
       "      <th>mean</th>\n",
       "      <td>116.338105</td>\n",
       "      <td>699.994928</td>\n",
       "      <td>5.341076</td>\n",
       "      <td>35.733329</td>\n",
       "      <td>10.424106</td>\n",
       "    </tr>\n",
       "    <tr>\n",
       "      <th>std</th>\n",
       "      <td>169.523543</td>\n",
       "      <td>1023.019517</td>\n",
       "      <td>0.831845</td>\n",
       "      <td>73.236536</td>\n",
       "      <td>19.589397</td>\n",
       "    </tr>\n",
       "    <tr>\n",
       "      <th>min</th>\n",
       "      <td>1.000000</td>\n",
       "      <td>4.000000</td>\n",
       "      <td>2.500000</td>\n",
       "      <td>0.000000</td>\n",
       "      <td>0.000000</td>\n",
       "    </tr>\n",
       "    <tr>\n",
       "      <th>25%</th>\n",
       "      <td>35.000000</td>\n",
       "      <td>215.000000</td>\n",
       "      <td>4.888889</td>\n",
       "      <td>4.000000</td>\n",
       "      <td>1.000000</td>\n",
       "    </tr>\n",
       "    <tr>\n",
       "      <th>50%</th>\n",
       "      <td>78.000000</td>\n",
       "      <td>473.000000</td>\n",
       "      <td>5.218750</td>\n",
       "      <td>20.000000</td>\n",
       "      <td>5.000000</td>\n",
       "    </tr>\n",
       "    <tr>\n",
       "      <th>75%</th>\n",
       "      <td>154.000000</td>\n",
       "      <td>916.750000</td>\n",
       "      <td>5.621046</td>\n",
       "      <td>46.000000</td>\n",
       "      <td>12.000000</td>\n",
       "    </tr>\n",
       "    <tr>\n",
       "      <th>max</th>\n",
       "      <td>8183.000000</td>\n",
       "      <td>50403.000000</td>\n",
       "      <td>32.782609</td>\n",
       "      <td>3870.000000</td>\n",
       "      <td>574.000000</td>\n",
       "    </tr>\n",
       "  </tbody>\n",
       "</table>\n",
       "</div>"
      ],
      "text/plain": [
       "        Total_Words  Total_Characters  Avg_Word_Length     Stopwords  \\\n",
       "count  27802.000000      27802.000000     27802.000000  27802.000000   \n",
       "mean     116.338105        699.994928         5.341076     35.733329   \n",
       "std      169.523543       1023.019517         0.831845     73.236536   \n",
       "min        1.000000          4.000000         2.500000      0.000000   \n",
       "25%       35.000000        215.000000         4.888889      4.000000   \n",
       "50%       78.000000        473.000000         5.218750     20.000000   \n",
       "75%      154.000000        916.750000         5.621046     46.000000   \n",
       "max     8183.000000      50403.000000        32.782609   3870.000000   \n",
       "\n",
       "           Numerics  \n",
       "count  27802.000000  \n",
       "mean      10.424106  \n",
       "std       19.589397  \n",
       "min        0.000000  \n",
       "25%        1.000000  \n",
       "50%        5.000000  \n",
       "75%       12.000000  \n",
       "max      574.000000  "
      ]
     },
     "execution_count": 171,
     "metadata": {},
     "output_type": "execute_result"
    }
   ],
   "source": [
    "#Descriptive summary of the newly obtained insights\n",
    "df.describe()"
   ]
  },
  {
   "cell_type": "code",
   "execution_count": 172,
   "id": "93ec4836",
   "metadata": {},
   "outputs": [
    {
     "data": {
      "text/html": [
       "<div>\n",
       "<style scoped>\n",
       "    .dataframe tbody tr th:only-of-type {\n",
       "        vertical-align: middle;\n",
       "    }\n",
       "\n",
       "    .dataframe tbody tr th {\n",
       "        vertical-align: top;\n",
       "    }\n",
       "\n",
       "    .dataframe thead th {\n",
       "        text-align: right;\n",
       "    }\n",
       "</style>\n",
       "<table border=\"1\" class=\"dataframe\">\n",
       "  <thead>\n",
       "    <tr style=\"text-align: right;\">\n",
       "      <th>Category</th>\n",
       "      <th>Books</th>\n",
       "      <th>Clothing &amp; Accessories</th>\n",
       "      <th>Electronics</th>\n",
       "      <th>Household</th>\n",
       "    </tr>\n",
       "  </thead>\n",
       "  <tbody>\n",
       "    <tr>\n",
       "      <th>count</th>\n",
       "      <td>6256.000000</td>\n",
       "      <td>5674.000000</td>\n",
       "      <td>5308.000000</td>\n",
       "      <td>10564.000000</td>\n",
       "    </tr>\n",
       "    <tr>\n",
       "      <th>mean</th>\n",
       "      <td>143.800192</td>\n",
       "      <td>73.543179</td>\n",
       "      <td>137.624341</td>\n",
       "      <td>112.365013</td>\n",
       "    </tr>\n",
       "    <tr>\n",
       "      <th>std</th>\n",
       "      <td>299.883311</td>\n",
       "      <td>64.313936</td>\n",
       "      <td>129.589855</td>\n",
       "      <td>100.255161</td>\n",
       "    </tr>\n",
       "    <tr>\n",
       "      <th>min</th>\n",
       "      <td>1.000000</td>\n",
       "      <td>1.000000</td>\n",
       "      <td>2.000000</td>\n",
       "      <td>1.000000</td>\n",
       "    </tr>\n",
       "    <tr>\n",
       "      <th>25%</th>\n",
       "      <td>13.000000</td>\n",
       "      <td>31.000000</td>\n",
       "      <td>44.000000</td>\n",
       "      <td>45.000000</td>\n",
       "    </tr>\n",
       "    <tr>\n",
       "      <th>50%</th>\n",
       "      <td>75.000000</td>\n",
       "      <td>57.000000</td>\n",
       "      <td>104.000000</td>\n",
       "      <td>87.000000</td>\n",
       "    </tr>\n",
       "    <tr>\n",
       "      <th>75%</th>\n",
       "      <td>171.000000</td>\n",
       "      <td>92.000000</td>\n",
       "      <td>201.000000</td>\n",
       "      <td>152.000000</td>\n",
       "    </tr>\n",
       "    <tr>\n",
       "      <th>max</th>\n",
       "      <td>8183.000000</td>\n",
       "      <td>582.000000</td>\n",
       "      <td>2002.000000</td>\n",
       "      <td>1797.000000</td>\n",
       "    </tr>\n",
       "  </tbody>\n",
       "</table>\n",
       "</div>"
      ],
      "text/plain": [
       "Category        Books  Clothing & Accessories  Electronics     Household\n",
       "count     6256.000000             5674.000000  5308.000000  10564.000000\n",
       "mean       143.800192               73.543179   137.624341    112.365013\n",
       "std        299.883311               64.313936   129.589855    100.255161\n",
       "min          1.000000                1.000000     2.000000      1.000000\n",
       "25%         13.000000               31.000000    44.000000     45.000000\n",
       "50%         75.000000               57.000000   104.000000     87.000000\n",
       "75%        171.000000               92.000000   201.000000    152.000000\n",
       "max       8183.000000              582.000000  2002.000000   1797.000000"
      ]
     },
     "execution_count": 172,
     "metadata": {},
     "output_type": "execute_result"
    }
   ],
   "source": [
    "#Grouped descriptive summary of the newly obtained insights\n",
    "df.groupby(by='Category')['Total_Words'].describe().T"
   ]
  },
  {
   "cell_type": "code",
   "execution_count": 173,
   "id": "4cd03ee3",
   "metadata": {},
   "outputs": [
    {
     "data": {
      "text/html": [
       "<div>\n",
       "<style scoped>\n",
       "    .dataframe tbody tr th:only-of-type {\n",
       "        vertical-align: middle;\n",
       "    }\n",
       "\n",
       "    .dataframe tbody tr th {\n",
       "        vertical-align: top;\n",
       "    }\n",
       "\n",
       "    .dataframe thead th {\n",
       "        text-align: right;\n",
       "    }\n",
       "</style>\n",
       "<table border=\"1\" class=\"dataframe\">\n",
       "  <thead>\n",
       "    <tr style=\"text-align: right;\">\n",
       "      <th></th>\n",
       "      <th>Category</th>\n",
       "      <th>Text</th>\n",
       "    </tr>\n",
       "  </thead>\n",
       "  <tbody>\n",
       "    <tr>\n",
       "      <th>19034</th>\n",
       "      <td>Household</td>\n",
       "      <td>Sourcery</td>\n",
       "    </tr>\n",
       "    <tr>\n",
       "      <th>20442</th>\n",
       "      <td>Books</td>\n",
       "      <td>Panorama</td>\n",
       "    </tr>\n",
       "    <tr>\n",
       "      <th>25314</th>\n",
       "      <td>Books</td>\n",
       "      <td>Yes!</td>\n",
       "    </tr>\n",
       "    <tr>\n",
       "      <th>25918</th>\n",
       "      <td>Books</td>\n",
       "      <td>Sail</td>\n",
       "    </tr>\n",
       "    <tr>\n",
       "      <th>27423</th>\n",
       "      <td>Books</td>\n",
       "      <td>Becoming</td>\n",
       "    </tr>\n",
       "    <tr>\n",
       "      <th>30140</th>\n",
       "      <td>Books</td>\n",
       "      <td>Calculus</td>\n",
       "    </tr>\n",
       "    <tr>\n",
       "      <th>30707</th>\n",
       "      <td>Books</td>\n",
       "      <td>Psychopathology</td>\n",
       "    </tr>\n",
       "    <tr>\n",
       "      <th>30738</th>\n",
       "      <td>Books</td>\n",
       "      <td>Psychotherapy</td>\n",
       "    </tr>\n",
       "    <tr>\n",
       "      <th>31225</th>\n",
       "      <td>Clothing &amp; Accessories</td>\n",
       "      <td>BELT</td>\n",
       "    </tr>\n",
       "  </tbody>\n",
       "</table>\n",
       "</div>"
      ],
      "text/plain": [
       "                     Category             Text\n",
       "19034               Household         Sourcery\n",
       "20442                   Books         Panorama\n",
       "25314                   Books             Yes!\n",
       "25918                   Books             Sail\n",
       "27423                   Books         Becoming\n",
       "30140                   Books         Calculus\n",
       "30707                   Books  Psychopathology\n",
       "30738                   Books    Psychotherapy\n",
       "31225  Clothing & Accessories             BELT"
      ]
     },
     "execution_count": 173,
     "metadata": {},
     "output_type": "execute_result"
    }
   ],
   "source": [
    "#Seeing those descriptions which containins only one word\n",
    "df[(df['Total_Words']==1)][['Category','Text']]"
   ]
  },
  {
   "cell_type": "code",
   "execution_count": 174,
   "id": "6d247303",
   "metadata": {},
   "outputs": [
    {
     "data": {
      "text/html": [
       "<div>\n",
       "<style scoped>\n",
       "    .dataframe tbody tr th:only-of-type {\n",
       "        vertical-align: middle;\n",
       "    }\n",
       "\n",
       "    .dataframe tbody tr th {\n",
       "        vertical-align: top;\n",
       "    }\n",
       "\n",
       "    .dataframe thead th {\n",
       "        text-align: right;\n",
       "    }\n",
       "</style>\n",
       "<table border=\"1\" class=\"dataframe\">\n",
       "  <thead>\n",
       "    <tr style=\"text-align: right;\">\n",
       "      <th></th>\n",
       "      <th>Category</th>\n",
       "      <th>Text</th>\n",
       "    </tr>\n",
       "  </thead>\n",
       "  <tbody>\n",
       "    <tr>\n",
       "      <th>19034</th>\n",
       "      <td>Household</td>\n",
       "      <td>Sourcery</td>\n",
       "    </tr>\n",
       "    <tr>\n",
       "      <th>19841</th>\n",
       "      <td>Books</td>\n",
       "      <td>fault lines</td>\n",
       "    </tr>\n",
       "    <tr>\n",
       "      <th>19903</th>\n",
       "      <td>Books</td>\n",
       "      <td>Universe</td>\n",
       "    </tr>\n",
       "    <tr>\n",
       "      <th>20442</th>\n",
       "      <td>Books</td>\n",
       "      <td>Panorama</td>\n",
       "    </tr>\n",
       "    <tr>\n",
       "      <th>20982</th>\n",
       "      <td>Books</td>\n",
       "      <td>#Horror</td>\n",
       "    </tr>\n",
       "    <tr>\n",
       "      <th>21254</th>\n",
       "      <td>Books</td>\n",
       "      <td>Ramayana</td>\n",
       "    </tr>\n",
       "    <tr>\n",
       "      <th>21642</th>\n",
       "      <td>Books</td>\n",
       "      <td>Environment</td>\n",
       "    </tr>\n",
       "    <tr>\n",
       "      <th>22685</th>\n",
       "      <td>Books</td>\n",
       "      <td>Undercoating Gun</td>\n",
       "    </tr>\n",
       "    <tr>\n",
       "      <th>22907</th>\n",
       "      <td>Books</td>\n",
       "      <td>Dracula</td>\n",
       "    </tr>\n",
       "    <tr>\n",
       "      <th>23015</th>\n",
       "      <td>Books</td>\n",
       "      <td>Essays</td>\n",
       "    </tr>\n",
       "    <tr>\n",
       "      <th>23255</th>\n",
       "      <td>Books</td>\n",
       "      <td>Siddhartha</td>\n",
       "    </tr>\n",
       "    <tr>\n",
       "      <th>23297</th>\n",
       "      <td>Books</td>\n",
       "      <td>Siddhartha (Marathi)</td>\n",
       "    </tr>\n",
       "    <tr>\n",
       "      <th>24199</th>\n",
       "      <td>Books</td>\n",
       "      <td>Jainism NA</td>\n",
       "    </tr>\n",
       "    <tr>\n",
       "      <th>24329</th>\n",
       "      <td>Books</td>\n",
       "      <td>Meditations</td>\n",
       "    </tr>\n",
       "    <tr>\n",
       "      <th>24387</th>\n",
       "      <td>Books</td>\n",
       "      <td>Mysticism</td>\n",
       "    </tr>\n",
       "    <tr>\n",
       "      <th>25314</th>\n",
       "      <td>Books</td>\n",
       "      <td>Yes!</td>\n",
       "    </tr>\n",
       "    <tr>\n",
       "      <th>25390</th>\n",
       "      <td>Books</td>\n",
       "      <td>The Edge</td>\n",
       "    </tr>\n",
       "    <tr>\n",
       "      <th>25401</th>\n",
       "      <td>Books</td>\n",
       "      <td>Blood Sport</td>\n",
       "    </tr>\n",
       "    <tr>\n",
       "      <th>25405</th>\n",
       "      <td>Books</td>\n",
       "      <td>Dead Heat</td>\n",
       "    </tr>\n",
       "    <tr>\n",
       "      <th>25415</th>\n",
       "      <td>Books</td>\n",
       "      <td>Wild Horses</td>\n",
       "    </tr>\n",
       "    <tr>\n",
       "      <th>25810</th>\n",
       "      <td>Books</td>\n",
       "      <td>Tennis</td>\n",
       "    </tr>\n",
       "    <tr>\n",
       "      <th>25918</th>\n",
       "      <td>Books</td>\n",
       "      <td>Sail</td>\n",
       "    </tr>\n",
       "    <tr>\n",
       "      <th>26339</th>\n",
       "      <td>Books</td>\n",
       "      <td>Macroeconomics</td>\n",
       "    </tr>\n",
       "    <tr>\n",
       "      <th>26344</th>\n",
       "      <td>Books</td>\n",
       "      <td>Microeconomics</td>\n",
       "    </tr>\n",
       "    <tr>\n",
       "      <th>26839</th>\n",
       "      <td>Books</td>\n",
       "      <td>ALGORITHMS</td>\n",
       "    </tr>\n",
       "    <tr>\n",
       "      <th>27070</th>\n",
       "      <td>Books</td>\n",
       "      <td>Biotechnology Biotechnology</td>\n",
       "    </tr>\n",
       "    <tr>\n",
       "      <th>27315</th>\n",
       "      <td>Books</td>\n",
       "      <td>Rugby 15-Nla</td>\n",
       "    </tr>\n",
       "    <tr>\n",
       "      <th>27423</th>\n",
       "      <td>Books</td>\n",
       "      <td>Becoming</td>\n",
       "    </tr>\n",
       "    <tr>\n",
       "      <th>27624</th>\n",
       "      <td>Books</td>\n",
       "      <td>American Pastoral</td>\n",
       "    </tr>\n",
       "    <tr>\n",
       "      <th>27894</th>\n",
       "      <td>Books</td>\n",
       "      <td>Epistemology</td>\n",
       "    </tr>\n",
       "    <tr>\n",
       "      <th>27986</th>\n",
       "      <td>Books</td>\n",
       "      <td>Quantum Healing</td>\n",
       "    </tr>\n",
       "    <tr>\n",
       "      <th>28964</th>\n",
       "      <td>Books</td>\n",
       "      <td>Iady-Era</td>\n",
       "    </tr>\n",
       "    <tr>\n",
       "      <th>29671</th>\n",
       "      <td>Books</td>\n",
       "      <td>Mathematics</td>\n",
       "    </tr>\n",
       "    <tr>\n",
       "      <th>29806</th>\n",
       "      <td>Books</td>\n",
       "      <td>Astronomy 101</td>\n",
       "    </tr>\n",
       "    <tr>\n",
       "      <th>30075</th>\n",
       "      <td>Books</td>\n",
       "      <td>Algebra</td>\n",
       "    </tr>\n",
       "    <tr>\n",
       "      <th>30140</th>\n",
       "      <td>Books</td>\n",
       "      <td>Calculus</td>\n",
       "    </tr>\n",
       "    <tr>\n",
       "      <th>30149</th>\n",
       "      <td>Books</td>\n",
       "      <td>Geometry</td>\n",
       "    </tr>\n",
       "    <tr>\n",
       "      <th>30240</th>\n",
       "      <td>Books</td>\n",
       "      <td>Archaeology</td>\n",
       "    </tr>\n",
       "    <tr>\n",
       "      <th>30286</th>\n",
       "      <td>Books</td>\n",
       "      <td>Criminology</td>\n",
       "    </tr>\n",
       "    <tr>\n",
       "      <th>30433</th>\n",
       "      <td>Books</td>\n",
       "      <td>On War</td>\n",
       "    </tr>\n",
       "    <tr>\n",
       "      <th>30636</th>\n",
       "      <td>Books</td>\n",
       "      <td>Chanakya</td>\n",
       "    </tr>\n",
       "    <tr>\n",
       "      <th>30707</th>\n",
       "      <td>Books</td>\n",
       "      <td>Psychopathology</td>\n",
       "    </tr>\n",
       "    <tr>\n",
       "      <th>30721</th>\n",
       "      <td>Books</td>\n",
       "      <td>Psychotherapy</td>\n",
       "    </tr>\n",
       "    <tr>\n",
       "      <th>30738</th>\n",
       "      <td>Books</td>\n",
       "      <td>Psychotherapy</td>\n",
       "    </tr>\n",
       "    <tr>\n",
       "      <th>31225</th>\n",
       "      <td>Clothing &amp; Accessories</td>\n",
       "      <td>BELT</td>\n",
       "    </tr>\n",
       "    <tr>\n",
       "      <th>46077</th>\n",
       "      <td>Electronics</td>\n",
       "      <td>Skylight</td>\n",
       "    </tr>\n",
       "  </tbody>\n",
       "</table>\n",
       "</div>"
      ],
      "text/plain": [
       "                     Category                         Text\n",
       "19034               Household                     Sourcery\n",
       "19841                   Books                  fault lines\n",
       "19903                   Books                    Universe \n",
       "20442                   Books                     Panorama\n",
       "20982                   Books                     #Horror \n",
       "21254                   Books                    Ramayana \n",
       "21642                   Books                 Environment \n",
       "22685                   Books             Undercoating Gun\n",
       "22907                   Books                     Dracula \n",
       "23015                   Books                      Essays \n",
       "23255                   Books                  Siddhartha \n",
       "23297                   Books         Siddhartha (Marathi)\n",
       "24199                   Books                   Jainism NA\n",
       "24329                   Books                 Meditations \n",
       "24387                   Books                   Mysticism \n",
       "25314                   Books                         Yes!\n",
       "25390                   Books                     The Edge\n",
       "25401                   Books                  Blood Sport\n",
       "25405                   Books                    Dead Heat\n",
       "25415                   Books                  Wild Horses\n",
       "25810                   Books                      Tennis \n",
       "25918                   Books                         Sail\n",
       "26339                   Books              Macroeconomics \n",
       "26344                   Books              Microeconomics \n",
       "26839                   Books                  ALGORITHMS \n",
       "27070                   Books  Biotechnology Biotechnology\n",
       "27315                   Books                 Rugby 15-Nla\n",
       "27423                   Books                     Becoming\n",
       "27624                   Books            American Pastoral\n",
       "27894                   Books                Epistemology \n",
       "27986                   Books              Quantum Healing\n",
       "28964                   Books                    Iady-Era \n",
       "29671                   Books                 Mathematics \n",
       "29806                   Books                Astronomy 101\n",
       "30075                   Books                     Algebra \n",
       "30140                   Books                     Calculus\n",
       "30149                   Books                    Geometry \n",
       "30240                   Books                 Archaeology \n",
       "30286                   Books                 Criminology \n",
       "30433                   Books                       On War\n",
       "30636                   Books                    Chanakya \n",
       "30707                   Books              Psychopathology\n",
       "30721                   Books               Psychotherapy \n",
       "30738                   Books                Psychotherapy\n",
       "31225  Clothing & Accessories                         BELT\n",
       "46077             Electronics                    Skylight "
      ]
     },
     "execution_count": 174,
     "metadata": {},
     "output_type": "execute_result"
    }
   ],
   "source": [
    "#Seeing those descriptions which containins less than 3 words\n",
    "df[(df['Total_Words']<3)][['Category','Text']]"
   ]
  },
  {
   "cell_type": "markdown",
   "id": "74b3aed4",
   "metadata": {},
   "source": [
    "Inference:\n",
    "\n",
    "A single word product description does not given much information on the product and hence we are removing these rows\n",
    "\n",
    "We can also see that, products which contains less more than one word are actually significant and related to the product, eg.name of the book, category of the book, name of the clothing or electronic items.\n",
    "\n",
    "For our purpose, we are removing those with only one word in the description."
   ]
  },
  {
   "cell_type": "code",
   "execution_count": 175,
   "id": "3ecb2f12",
   "metadata": {},
   "outputs": [
    {
     "data": {
      "text/plain": [
       "(27793, 2)"
      ]
     },
     "execution_count": 175,
     "metadata": {},
     "output_type": "execute_result"
    }
   ],
   "source": [
    "#deleting rows which has only one word in Text column\n",
    "Ecom.drop(df[df['Total_Words']==1].index , inplace=True)\n",
    "Ecom.shape"
   ]
  },
  {
   "cell_type": "code",
   "execution_count": 176,
   "id": "6673d812",
   "metadata": {},
   "outputs": [
    {
     "data": {
      "text/html": [
       "<div>\n",
       "<style scoped>\n",
       "    .dataframe tbody tr th:only-of-type {\n",
       "        vertical-align: middle;\n",
       "    }\n",
       "\n",
       "    .dataframe tbody tr th {\n",
       "        vertical-align: top;\n",
       "    }\n",
       "\n",
       "    .dataframe thead th {\n",
       "        text-align: right;\n",
       "    }\n",
       "</style>\n",
       "<table border=\"1\" class=\"dataframe\">\n",
       "  <thead>\n",
       "    <tr style=\"text-align: right;\">\n",
       "      <th></th>\n",
       "      <th>Category</th>\n",
       "      <th>Text</th>\n",
       "    </tr>\n",
       "  </thead>\n",
       "  <tbody>\n",
       "    <tr>\n",
       "      <th>0</th>\n",
       "      <td>Household</td>\n",
       "      <td>Paper Plane Design Framed Wall Hanging Motivat...</td>\n",
       "    </tr>\n",
       "    <tr>\n",
       "      <th>1</th>\n",
       "      <td>Household</td>\n",
       "      <td>SAF 'Floral' Framed Painting (Wood, 30 inch x ...</td>\n",
       "    </tr>\n",
       "    <tr>\n",
       "      <th>2</th>\n",
       "      <td>Household</td>\n",
       "      <td>SAF 'UV Textured Modern Art Print Framed' Pain...</td>\n",
       "    </tr>\n",
       "    <tr>\n",
       "      <th>3</th>\n",
       "      <td>Household</td>\n",
       "      <td>SAF Flower Print Framed Painting (Synthetic, 1...</td>\n",
       "    </tr>\n",
       "    <tr>\n",
       "      <th>4</th>\n",
       "      <td>Household</td>\n",
       "      <td>Incredible Gifts India Wooden Happy Birthday U...</td>\n",
       "    </tr>\n",
       "  </tbody>\n",
       "</table>\n",
       "</div>"
      ],
      "text/plain": [
       "    Category                                               Text\n",
       "0  Household  Paper Plane Design Framed Wall Hanging Motivat...\n",
       "1  Household  SAF 'Floral' Framed Painting (Wood, 30 inch x ...\n",
       "2  Household  SAF 'UV Textured Modern Art Print Framed' Pain...\n",
       "3  Household  SAF Flower Print Framed Painting (Synthetic, 1...\n",
       "4  Household  Incredible Gifts India Wooden Happy Birthday U..."
      ]
     },
     "execution_count": 176,
     "metadata": {},
     "output_type": "execute_result"
    }
   ],
   "source": [
    "Ecom.reset_index(drop=True,inplace=True)\n",
    "Ecom.head()"
   ]
  },
  {
   "cell_type": "markdown",
   "id": "049b9ace",
   "metadata": {},
   "source": [
    "#### Pre-Processing"
   ]
  },
  {
   "cell_type": "markdown",
   "id": "f64fcf2f",
   "metadata": {},
   "source": [
    "#### Lower case conversion"
   ]
  },
  {
   "cell_type": "code",
   "execution_count": 177,
   "id": "2e3b398d",
   "metadata": {},
   "outputs": [
    {
     "data": {
      "text/html": [
       "<div>\n",
       "<style scoped>\n",
       "    .dataframe tbody tr th:only-of-type {\n",
       "        vertical-align: middle;\n",
       "    }\n",
       "\n",
       "    .dataframe tbody tr th {\n",
       "        vertical-align: top;\n",
       "    }\n",
       "\n",
       "    .dataframe thead th {\n",
       "        text-align: right;\n",
       "    }\n",
       "</style>\n",
       "<table border=\"1\" class=\"dataframe\">\n",
       "  <thead>\n",
       "    <tr style=\"text-align: right;\">\n",
       "      <th></th>\n",
       "      <th>Category</th>\n",
       "      <th>Text</th>\n",
       "    </tr>\n",
       "  </thead>\n",
       "  <tbody>\n",
       "    <tr>\n",
       "      <th>0</th>\n",
       "      <td>Household</td>\n",
       "      <td>paper plane design framed wall hanging motivat...</td>\n",
       "    </tr>\n",
       "    <tr>\n",
       "      <th>1</th>\n",
       "      <td>Household</td>\n",
       "      <td>saf 'floral' framed painting (wood, 30 inch x ...</td>\n",
       "    </tr>\n",
       "    <tr>\n",
       "      <th>2</th>\n",
       "      <td>Household</td>\n",
       "      <td>saf 'uv textured modern art print framed' pain...</td>\n",
       "    </tr>\n",
       "    <tr>\n",
       "      <th>3</th>\n",
       "      <td>Household</td>\n",
       "      <td>saf flower print framed painting (synthetic, 1...</td>\n",
       "    </tr>\n",
       "    <tr>\n",
       "      <th>4</th>\n",
       "      <td>Household</td>\n",
       "      <td>incredible gifts india wooden happy birthday u...</td>\n",
       "    </tr>\n",
       "  </tbody>\n",
       "</table>\n",
       "</div>"
      ],
      "text/plain": [
       "    Category                                               Text\n",
       "0  Household  paper plane design framed wall hanging motivat...\n",
       "1  Household  saf 'floral' framed painting (wood, 30 inch x ...\n",
       "2  Household  saf 'uv textured modern art print framed' pain...\n",
       "3  Household  saf flower print framed painting (synthetic, 1...\n",
       "4  Household  incredible gifts india wooden happy birthday u..."
      ]
     },
     "execution_count": 177,
     "metadata": {},
     "output_type": "execute_result"
    }
   ],
   "source": [
    "#Converting all the characters into lower case\n",
    "Ecom['Text'] = Ecom['Text'].apply(lambda x: \" \".join(x.lower() for x in x.split()))\n",
    "Ecom.head()"
   ]
  },
  {
   "cell_type": "markdown",
   "id": "4c8cb4a4",
   "metadata": {},
   "source": [
    "#### Removal of characters other than alphanumeric and white space"
   ]
  },
  {
   "cell_type": "code",
   "execution_count": 178,
   "id": "191ba431",
   "metadata": {},
   "outputs": [
    {
     "name": "stderr",
     "output_type": "stream",
     "text": [
      "C:\\Users\\Admin\\AppData\\Local\\Temp/ipykernel_29332/1910482328.py:1: FutureWarning: The default value of regex will change from True to False in a future version.\n",
      "  Ecom['Text'] = Ecom['Text'].str.replace('[^\\w\\s]','')\n"
     ]
    },
    {
     "data": {
      "text/plain": [
       "0    paper plane design framed wall hanging motivat...\n",
       "1    saf floral framed painting wood 30 inch x 10 i...\n",
       "2    saf uv textured modern art print framed painti...\n",
       "3    saf flower print framed painting synthetic 135...\n",
       "4    incredible gifts india wooden happy birthday u...\n",
       "Name: Text, dtype: object"
      ]
     },
     "execution_count": 178,
     "metadata": {},
     "output_type": "execute_result"
    }
   ],
   "source": [
    "Ecom['Text'] = Ecom['Text'].str.replace('[^\\w\\s]','')\n",
    "#\\w: Returns a match where the string contains any word characters (characters from a to Z, digits from 0-9, and the underscore _ character)\n",
    "#\\s: Returns a match where the string contains a white space character.\n",
    "#[^]: Returns a match for any character EXCEPT what is written after it.\n",
    "Ecom['Text'].head()"
   ]
  },
  {
   "cell_type": "markdown",
   "id": "520e0c30",
   "metadata": {},
   "source": [
    "#### Removal of numeric characters"
   ]
  },
  {
   "cell_type": "code",
   "execution_count": 179,
   "id": "25a423dc",
   "metadata": {},
   "outputs": [
    {
     "name": "stderr",
     "output_type": "stream",
     "text": [
      "C:\\Users\\Admin\\AppData\\Local\\Temp/ipykernel_29332/493634516.py:2: FutureWarning: The default value of regex will change from True to False in a future version.\n",
      "  Ecom['Text'] = Ecom['Text'].str.replace('[\\d]','')\n"
     ]
    },
    {
     "data": {
      "text/plain": [
       "0    paper plane design framed wall hanging motivat...\n",
       "1    saf floral framed painting wood  inch x  inch ...\n",
       "2    saf uv textured modern art print framed painti...\n",
       "3    saf flower print framed painting synthetic  in...\n",
       "4    incredible gifts india wooden happy birthday u...\n",
       "Name: Text, dtype: object"
      ]
     },
     "execution_count": 179,
     "metadata": {},
     "output_type": "execute_result"
    }
   ],
   "source": [
    "#Numbers present in description are not significant enough to give detailed insights, hence we can remove them\n",
    "Ecom['Text'] = Ecom['Text'].str.replace('[\\d]','')\n",
    "#\\d: Returns a match where the string contains digits (numbers from 0-9)\n",
    "Ecom['Text'].head()"
   ]
  },
  {
   "cell_type": "markdown",
   "id": "2db396cb",
   "metadata": {},
   "source": [
    "#### Removal of Accented characters"
   ]
  },
  {
   "cell_type": "code",
   "execution_count": 180,
   "id": "bc303b6d",
   "metadata": {},
   "outputs": [],
   "source": [
    "# Remove Accented Chars\n",
    "import unicodedata\n",
    "def remove_accented_char(sentence):\n",
    "    sentence = unicodedata.normalize('NFKD', sentence).encode('ascii', 'ignore').decode('utf-8', 'ignore')\n",
    "    return sentence"
   ]
  },
  {
   "cell_type": "code",
   "execution_count": 181,
   "id": "f0e8a4e3",
   "metadata": {},
   "outputs": [
    {
     "data": {
      "text/html": [
       "<div>\n",
       "<style scoped>\n",
       "    .dataframe tbody tr th:only-of-type {\n",
       "        vertical-align: middle;\n",
       "    }\n",
       "\n",
       "    .dataframe tbody tr th {\n",
       "        vertical-align: top;\n",
       "    }\n",
       "\n",
       "    .dataframe thead th {\n",
       "        text-align: right;\n",
       "    }\n",
       "</style>\n",
       "<table border=\"1\" class=\"dataframe\">\n",
       "  <thead>\n",
       "    <tr style=\"text-align: right;\">\n",
       "      <th></th>\n",
       "      <th>Category</th>\n",
       "      <th>Text</th>\n",
       "    </tr>\n",
       "  </thead>\n",
       "  <tbody>\n",
       "    <tr>\n",
       "      <th>0</th>\n",
       "      <td>Household</td>\n",
       "      <td>paper plane design framed wall hanging motivat...</td>\n",
       "    </tr>\n",
       "    <tr>\n",
       "      <th>1</th>\n",
       "      <td>Household</td>\n",
       "      <td>saf floral framed painting wood  inch x  inch ...</td>\n",
       "    </tr>\n",
       "    <tr>\n",
       "      <th>2</th>\n",
       "      <td>Household</td>\n",
       "      <td>saf uv textured modern art print framed painti...</td>\n",
       "    </tr>\n",
       "    <tr>\n",
       "      <th>3</th>\n",
       "      <td>Household</td>\n",
       "      <td>saf flower print framed painting synthetic  in...</td>\n",
       "    </tr>\n",
       "    <tr>\n",
       "      <th>4</th>\n",
       "      <td>Household</td>\n",
       "      <td>incredible gifts india wooden happy birthday u...</td>\n",
       "    </tr>\n",
       "    <tr>\n",
       "      <th>...</th>\n",
       "      <td>...</td>\n",
       "      <td>...</td>\n",
       "    </tr>\n",
       "    <tr>\n",
       "      <th>27788</th>\n",
       "      <td>Electronics</td>\n",
       "      <td>micromax bharat  plus zero impact on visual di...</td>\n",
       "    </tr>\n",
       "    <tr>\n",
       "      <th>27789</th>\n",
       "      <td>Electronics</td>\n",
       "      <td>microsoft lumia  gb g black microsoft lumia  e...</td>\n",
       "    </tr>\n",
       "    <tr>\n",
       "      <th>27790</th>\n",
       "      <td>Electronics</td>\n",
       "      <td>microsoft lumia  black gb colourblack product ...</td>\n",
       "    </tr>\n",
       "    <tr>\n",
       "      <th>27791</th>\n",
       "      <td>Electronics</td>\n",
       "      <td>karbonn titanium wind w white karbonn titanium...</td>\n",
       "    </tr>\n",
       "    <tr>\n",
       "      <th>27792</th>\n",
       "      <td>Electronics</td>\n",
       "      <td>nokia lumia  dual sim grey colourgrey product ...</td>\n",
       "    </tr>\n",
       "  </tbody>\n",
       "</table>\n",
       "<p>27793 rows × 2 columns</p>\n",
       "</div>"
      ],
      "text/plain": [
       "          Category                                               Text\n",
       "0        Household  paper plane design framed wall hanging motivat...\n",
       "1        Household  saf floral framed painting wood  inch x  inch ...\n",
       "2        Household  saf uv textured modern art print framed painti...\n",
       "3        Household  saf flower print framed painting synthetic  in...\n",
       "4        Household  incredible gifts india wooden happy birthday u...\n",
       "...            ...                                                ...\n",
       "27788  Electronics  micromax bharat  plus zero impact on visual di...\n",
       "27789  Electronics  microsoft lumia  gb g black microsoft lumia  e...\n",
       "27790  Electronics  microsoft lumia  black gb colourblack product ...\n",
       "27791  Electronics  karbonn titanium wind w white karbonn titanium...\n",
       "27792  Electronics  nokia lumia  dual sim grey colourgrey product ...\n",
       "\n",
       "[27793 rows x 2 columns]"
      ]
     },
     "execution_count": 181,
     "metadata": {},
     "output_type": "execute_result"
    }
   ],
   "source": [
    "Ecom['Text'] = Ecom['Text'].apply(lambda x: remove_accented_char(x))\n",
    "Ecom"
   ]
  },
  {
   "cell_type": "markdown",
   "id": "175312a2",
   "metadata": {},
   "source": [
    "#### Removal of stop words"
   ]
  },
  {
   "cell_type": "code",
   "execution_count": 182,
   "id": "3f08d77e",
   "metadata": {},
   "outputs": [],
   "source": [
    "from nltk.corpus import stopwords"
   ]
  },
  {
   "cell_type": "code",
   "execution_count": 183,
   "id": "695ebb7e",
   "metadata": {},
   "outputs": [
    {
     "data": {
      "text/plain": [
       "0    paper plane design framed wall hanging motivat...\n",
       "1    saf floral framed painting wood inch x inch sp...\n",
       "2    saf uv textured modern art print framed painti...\n",
       "3    saf flower print framed painting synthetic inc...\n",
       "4    incredible gifts india wooden happy birthday u...\n",
       "Name: Text, dtype: object"
      ]
     },
     "execution_count": 183,
     "metadata": {},
     "output_type": "execute_result"
    }
   ],
   "source": [
    "Ecom['Text'] = Ecom['Text'].apply(lambda x: \" \".join(x for x in x.split() if x not in stop))\n",
    "Ecom['Text'].head()"
   ]
  },
  {
   "cell_type": "code",
   "execution_count": 184,
   "id": "ddb86fcc",
   "metadata": {
    "scrolled": true
   },
   "outputs": [
    {
     "data": {
      "text/plain": [
       "x                9076\n",
       "set              6524\n",
       "book             6278\n",
       "size             6239\n",
       "quality          6146\n",
       "                 ... \n",
       "abysmal             1\n",
       "insensitivity       1\n",
       "doctorskavita       1\n",
       "krishnan            1\n",
       "everyonegood        1\n",
       "Length: 95441, dtype: int64"
      ]
     },
     "execution_count": 184,
     "metadata": {},
     "output_type": "execute_result"
    }
   ],
   "source": [
    "#Getting the words which have high frequency, also mean they are commonly used across all categories\n",
    "#As these words are common, we remove them\n",
    "common_words = pd.Series(' '.join(Ecom['Text']).split()).value_counts()[:]\n",
    "common_words"
   ]
  },
  {
   "cell_type": "markdown",
   "id": "a48e323b",
   "metadata": {},
   "source": [
    "#### Removal of common words"
   ]
  },
  {
   "cell_type": "markdown",
   "id": "834da0f3",
   "metadata": {},
   "source": [
    "Words having x does not carry any significance\n",
    "\n",
    "Words like product, use, set, size, also, one, made can be removed as they are common to all products and do not carry any meaning in their classification"
   ]
  },
  {
   "cell_type": "code",
   "execution_count": 185,
   "id": "fd4c9a2d",
   "metadata": {},
   "outputs": [
    {
     "data": {
      "text/plain": [
       "0    paper plane framed wall hanging motivational o...\n",
       "1    saf floral framed painting wood inch inch spec...\n",
       "2    saf uv textured modern art print framed painti...\n",
       "3    saf flower print framed painting synthetic inc...\n",
       "4    incredible gifts india wooden happy birthday u...\n",
       "Name: Text, dtype: object"
      ]
     },
     "execution_count": 185,
     "metadata": {},
     "output_type": "execute_result"
    }
   ],
   "source": [
    "#Removing the 10 most common words\n",
    "Ecom['Text'] = Ecom['Text'].apply(lambda x: \" \".join(x for x in x.split() if x not in common_words[:10]))\n",
    "Ecom['Text'].head()"
   ]
  },
  {
   "cell_type": "markdown",
   "id": "70865f4d",
   "metadata": {},
   "source": [
    "#### Removal of rare words"
   ]
  },
  {
   "cell_type": "code",
   "execution_count": 186,
   "id": "27e55a4a",
   "metadata": {
    "scrolled": true
   },
   "outputs": [
    {
     "data": {
      "text/plain": [
       "author          5016\n",
       "cotton          4845\n",
       "black           4840\n",
       "high            4824\n",
       "color           4518\n",
       "                ... \n",
       "mondo              1\n",
       "outshines          1\n",
       "jacobi             1\n",
       "depthjacobi        1\n",
       "everyonegood       1\n",
       "Length: 95431, dtype: int64"
      ]
     },
     "execution_count": 186,
     "metadata": {},
     "output_type": "execute_result"
    }
   ],
   "source": [
    "rare_words = pd.Series(' '.join(Ecom['Text']).split()).value_counts()[:]\n",
    "rare_words\n",
    "## As it is difficult to analyse if these words will have association in text analytics or not, \n",
    "## hence to start with, these words are removed from the dataset"
   ]
  },
  {
   "cell_type": "code",
   "execution_count": 187,
   "id": "5b6d1069",
   "metadata": {},
   "outputs": [
    {
     "data": {
      "text/plain": [
       "constantine     1\n",
       "spacetible      1\n",
       "afforable       1\n",
       "xplay           1\n",
       "earthly         1\n",
       "               ..\n",
       "mondo           1\n",
       "outshines       1\n",
       "jacobi          1\n",
       "depthjacobi     1\n",
       "everyonegood    1\n",
       "Length: 48707, dtype: int64"
      ]
     },
     "execution_count": 187,
     "metadata": {},
     "output_type": "execute_result"
    }
   ],
   "source": [
    "#picking those words which occurred only once\n",
    "rare_words = rare_words[rare_words==1]\n",
    "rare_words"
   ]
  },
  {
   "cell_type": "code",
   "execution_count": 188,
   "id": "31983670",
   "metadata": {},
   "outputs": [],
   "source": [
    "#As it is difficult to make out if these words will have association in text analytics or not, hence to start with these words are kept in the dataset\n",
    "#Since the number of words which have occurred only once are very large in number, we are not gonna remove them"
   ]
  },
  {
   "cell_type": "markdown",
   "id": "bfc0f6bf",
   "metadata": {},
   "source": [
    "#### Stemming the data set"
   ]
  },
  {
   "cell_type": "markdown",
   "id": "f2dd0edf",
   "metadata": {},
   "source": [
    "#### removal of suffices, like “ing”, “ly”, “s”, etc. by a simple rule-based approach"
   ]
  },
  {
   "cell_type": "markdown",
   "id": "fe20ab9c",
   "metadata": {},
   "source": [
    "Since the data set is huge, we are performing stemming else lemmatiztion could be used"
   ]
  },
  {
   "cell_type": "code",
   "execution_count": 189,
   "id": "3d6f5c73",
   "metadata": {
    "scrolled": true
   },
   "outputs": [
    {
     "data": {
      "text/plain": [
       "0        paper plane frame wall hang motiv offic decor ...\n",
       "1        saf floral frame paint wood inch inch special ...\n",
       "2        saf uv textur modern art print frame paint syn...\n",
       "3        saf flower print frame paint synthet inch inch...\n",
       "4        incred gift india wooden happi birthday uniqu ...\n",
       "                               ...                        \n",
       "27788    micromax bharat zero impact visual displayscra...\n",
       "27789    microsoft lumia gb g black microsoft lumia exp...\n",
       "27790    microsoft lumia black gb colourblack descript ...\n",
       "27791    karbonn titanium wind w white karbonn titanium...\n",
       "27792    nokia lumia dual sim grey colourgrey descript ...\n",
       "Name: Text, Length: 27793, dtype: object"
      ]
     },
     "execution_count": 189,
     "metadata": {},
     "output_type": "execute_result"
    }
   ],
   "source": [
    "from nltk.stem import PorterStemmer\n",
    "st = PorterStemmer()\n",
    "Ecom['Text'].apply(lambda x: \" \".join([st.stem(word) for word in x.split()]))"
   ]
  },
  {
   "cell_type": "code",
   "execution_count": 309,
   "id": "f804e4d2",
   "metadata": {},
   "outputs": [],
   "source": [
    "#Copying all the document into a new variable\n",
    "#Or in other words getting X, independent variable\n",
    "processed_features = Ecom.iloc[:, 1].values\n",
    "\n",
    "#Copying all the terms into a new variable\n",
    "#Or in other words getting Y, dependent variable\n",
    "labels = Ecom.iloc[:, 0].values"
   ]
  },
  {
   "cell_type": "code",
   "execution_count": 310,
   "id": "8e6ce76d",
   "metadata": {},
   "outputs": [
    {
     "data": {
      "text/plain": [
       "array(['Household', 'Household', 'Household', ..., 'Electronics',\n",
       "       'Electronics', 'Electronics'], dtype=object)"
      ]
     },
     "execution_count": 310,
     "metadata": {},
     "output_type": "execute_result"
    }
   ],
   "source": [
    "labels"
   ]
  },
  {
   "cell_type": "code",
   "execution_count": 311,
   "id": "01fcc5aa",
   "metadata": {},
   "outputs": [
    {
     "data": {
      "text/plain": [
       "array(['paper plane framed wall hanging motivational office decor art prints inch painting synthetic frame uv textured print effects attracts special series paintings makes wall beautiful royal touch painting ready hang proud possess unique painting niche modern efficient printing technology prints inks precision epson roland hp printers innovative hd printing technique results durable spectacular prints highest lifetime print solely topnotch inks achieve brilliant colours due high level uv resistance prints retain beautiful colours years add colour style living space digitally printed painting pleasure eternal blissso bring elegant print lushed rich colors makes sheer elegance friends familyit treasured forever lucky recipient liven place intriguing paintings high definition hd graphic digital prints office room',\n",
       "       'saf floral framed painting wood inch inch special effect uv print textured sao painting synthetic frame uv textured print effects attracts special series paintings makes wall beautiful royal touch perfect gift special',\n",
       "       'saf uv textured modern art print framed painting synthetic cm cm cm colormulticolor cm cm cm overview beautiful painting involves action skill paint manner picture speak thousand words arts trend time give different viewer different meanings style saf wood matte abstract painting frame abstract mysteriously beautiful painting nice frame gift family friend painting forms figures image add lights place painting decor give different feel place durability painting matte finish includes frame long period include glass frame specifications purchase saf wood matte abstract painting frame amazonin customerfriendly platform wide range products choose shopping click away',\n",
       "       ...,\n",
       "       'microsoft lumia black gb colourblack description high definition visuals smartphone microsoft lumia series offers great viewing experience inches lcd multitouch capacitive touch screen qhd ips resolution pixels sharply refines picture display screens density ppi pixels colour support adds brightness beautiful range colours images screen windows phone processor phone microsoft equipped windows phone operating system efficient platform apps run smoothly snapdragon quad core processor ghz gb ram make experience fast seamless functioning lumia comfortably flip number apps phone smooth fast pace stay connected video calling primarily phone fulfill video conferencing skype chat microsoft lumia smartphone forward view beautiful charming faces folks sitting miles away impressive feature smartphone hitech cameras megapixels clicking great shots selfies skype calls additionally intelligent features makes phone smart buy durable battery life benefits lithium ion battery ensures solid power house form smartphone power mah battery microsoft lumia feel frequently recharge phone day hours talk time g network hours g phone internal memory space gb expanded gb external sd card lumia operates dual micro sim manufacturer bigger selfie bornlet selfies speak mp wide angle front camera lumia friends backdrop shot lumia selfie app preinstalled access front camera enhance selfies filters easily share friends onedrive regular call meets video callisnt amazing switch regular call highquality video call tap simply tap skype video call button lumia dual sim instantly capture whats mp wide angle front camera integrated skype microsoft services funbring fun life free microsoft services lumia dual sim skype onenote onedrive xbox ms office create play share instantly loud clearviewing clearer larger lumia dual sim cm gorilla glass screen readability visual content consumption fingertips pleasure visual stimuli high latest windows phone experiencethe lumia dual sim latest version windows phone regular overtheair updates youll newest software class work microsoft office built quick access files onedrive viewing editing documents gb free onedrive storage upload photos share friends private folder snapdragon series processorssnapdragon series processors enjoy popular mobile experiences optimising battery life snapdragon series processors smooth navigation switching apps supporting vibrant hd visuals premium multichannel audio',\n",
       "       'karbonn titanium wind w white karbonn titanium wind w efficient performance power packed windows phone pocket friendly karbonn titanium wind w mb ram phone works smoothly window operating system efficient user friendly high speed ghz qaud core processor lagfree operations equipped gb internal storage capacity expanded gb external sd card advanced technology smartphone reach budget sleek stunning camera efficiency device restricted performance efficient compact dimensions cm light weight g makes ergonomics hold avoiding accidental slips drops white bezel elegant professional inches lcd display resolution pixels colourful clear picture pixel density ppi mp rear camera autofocus accompanied led flash bright pictures low light conditions loaded mp front camera selfies video calling battery backup connectivity powered mah lithiumion battery battery backup hours talk time hours standby time wifi bluetooth enabled high speed data connectivity data transfer usb cable earphones battery charger user manual warranty card grab karbonn titanium wind w experience cost effective superior performance',\n",
       "       'nokia lumia dual sim grey colourgrey description brand licensing nokia licensees place high hightech beautifully designed phones hands homes word bringing connected lives hmd global oy exclusive global licensee nokia branded mobile phones creating products live high expectations consumers recognized loved brand hmd nokia phones december delighting worldwide awardwinning range androidbased nokia smartphones feature phones recreations original iconic nokia phones uptodate twist manufacturer latest version windows phonewindows phone packed great features open action center swipe notifications alerts quick settings place add favourite picture background start screen discover speed word flow keyboard windows phone experience favourite appsshazam office vine facebook instagram beta nokia lumia dual sim apps space add gb extra storage move apps sd card great create space apps compromising performance onethe nokia lumia dual sim smart dual sim fantastic feature great manage mobile costs call waiting call forwarding sim cards choose sim card situation optimise mobile life smart dual sim place lifeuse onedrive store sync important files multiple devices pictures videos documents ready anytime gb free storage space editing sharing nokia lumia dual sim microsoft office youll ready business power everyonegood value means compromising nokia lumia dual sim quad core processor latest version windows phone apps youre messaging socializing gaming nokia lumia dual sim power fun'],\n",
       "      dtype=object)"
      ]
     },
     "execution_count": 311,
     "metadata": {},
     "output_type": "execute_result"
    }
   ],
   "source": [
    "processed_features"
   ]
  },
  {
   "cell_type": "markdown",
   "id": "3edd6a87",
   "metadata": {},
   "source": [
    "#### TfidfVectorizer"
   ]
  },
  {
   "cell_type": "code",
   "execution_count": 312,
   "id": "441f2dcd",
   "metadata": {},
   "outputs": [],
   "source": [
    "from sklearn.feature_extraction.text import TfidfVectorizer\n",
    "\n",
    "vectorizer = TfidfVectorizer(max_features=10000,min_df=10, max_df=5000, ngram_range=(1,2))\n",
    "processed_features = vectorizer.fit_transform(processed_features).toarray()"
   ]
  },
  {
   "cell_type": "code",
   "execution_count": 313,
   "id": "569d7c9f",
   "metadata": {},
   "outputs": [
    {
     "data": {
      "text/html": [
       "<style>#sk-container-id-11 {color: black;background-color: white;}#sk-container-id-11 pre{padding: 0;}#sk-container-id-11 div.sk-toggleable {background-color: white;}#sk-container-id-11 label.sk-toggleable__label {cursor: pointer;display: block;width: 100%;margin-bottom: 0;padding: 0.3em;box-sizing: border-box;text-align: center;}#sk-container-id-11 label.sk-toggleable__label-arrow:before {content: \"▸\";float: left;margin-right: 0.25em;color: #696969;}#sk-container-id-11 label.sk-toggleable__label-arrow:hover:before {color: black;}#sk-container-id-11 div.sk-estimator:hover label.sk-toggleable__label-arrow:before {color: black;}#sk-container-id-11 div.sk-toggleable__content {max-height: 0;max-width: 0;overflow: hidden;text-align: left;background-color: #f0f8ff;}#sk-container-id-11 div.sk-toggleable__content pre {margin: 0.2em;color: black;border-radius: 0.25em;background-color: #f0f8ff;}#sk-container-id-11 input.sk-toggleable__control:checked~div.sk-toggleable__content {max-height: 200px;max-width: 100%;overflow: auto;}#sk-container-id-11 input.sk-toggleable__control:checked~label.sk-toggleable__label-arrow:before {content: \"▾\";}#sk-container-id-11 div.sk-estimator input.sk-toggleable__control:checked~label.sk-toggleable__label {background-color: #d4ebff;}#sk-container-id-11 div.sk-label input.sk-toggleable__control:checked~label.sk-toggleable__label {background-color: #d4ebff;}#sk-container-id-11 input.sk-hidden--visually {border: 0;clip: rect(1px 1px 1px 1px);clip: rect(1px, 1px, 1px, 1px);height: 1px;margin: -1px;overflow: hidden;padding: 0;position: absolute;width: 1px;}#sk-container-id-11 div.sk-estimator {font-family: monospace;background-color: #f0f8ff;border: 1px dotted black;border-radius: 0.25em;box-sizing: border-box;margin-bottom: 0.5em;}#sk-container-id-11 div.sk-estimator:hover {background-color: #d4ebff;}#sk-container-id-11 div.sk-parallel-item::after {content: \"\";width: 100%;border-bottom: 1px solid gray;flex-grow: 1;}#sk-container-id-11 div.sk-label:hover label.sk-toggleable__label {background-color: #d4ebff;}#sk-container-id-11 div.sk-serial::before {content: \"\";position: absolute;border-left: 1px solid gray;box-sizing: border-box;top: 0;bottom: 0;left: 50%;z-index: 0;}#sk-container-id-11 div.sk-serial {display: flex;flex-direction: column;align-items: center;background-color: white;padding-right: 0.2em;padding-left: 0.2em;position: relative;}#sk-container-id-11 div.sk-item {position: relative;z-index: 1;}#sk-container-id-11 div.sk-parallel {display: flex;align-items: stretch;justify-content: center;background-color: white;position: relative;}#sk-container-id-11 div.sk-item::before, #sk-container-id-11 div.sk-parallel-item::before {content: \"\";position: absolute;border-left: 1px solid gray;box-sizing: border-box;top: 0;bottom: 0;left: 50%;z-index: -1;}#sk-container-id-11 div.sk-parallel-item {display: flex;flex-direction: column;z-index: 1;position: relative;background-color: white;}#sk-container-id-11 div.sk-parallel-item:first-child::after {align-self: flex-end;width: 50%;}#sk-container-id-11 div.sk-parallel-item:last-child::after {align-self: flex-start;width: 50%;}#sk-container-id-11 div.sk-parallel-item:only-child::after {width: 0;}#sk-container-id-11 div.sk-dashed-wrapped {border: 1px dashed gray;margin: 0 0.4em 0.5em 0.4em;box-sizing: border-box;padding-bottom: 0.4em;background-color: white;}#sk-container-id-11 div.sk-label label {font-family: monospace;font-weight: bold;display: inline-block;line-height: 1.2em;}#sk-container-id-11 div.sk-label-container {text-align: center;}#sk-container-id-11 div.sk-container {/* jupyter's `normalize.less` sets `[hidden] { display: none; }` but bootstrap.min.css set `[hidden] { display: none !important; }` so we also need the `!important` here to be able to override the default hidden behavior on the sphinx rendered scikit-learn.org. See: https://github.com/scikit-learn/scikit-learn/issues/21755 */display: inline-block !important;position: relative;}#sk-container-id-11 div.sk-text-repr-fallback {display: none;}</style><div id=\"sk-container-id-11\" class=\"sk-top-container\"><div class=\"sk-text-repr-fallback\"><pre>TfidfVectorizer(max_df=5000, max_features=10000, min_df=10, ngram_range=(1, 2))</pre><b>In a Jupyter environment, please rerun this cell to show the HTML representation or trust the notebook. <br />On GitHub, the HTML representation is unable to render, please try loading this page with nbviewer.org.</b></div><div class=\"sk-container\" hidden><div class=\"sk-item\"><div class=\"sk-estimator sk-toggleable\"><input class=\"sk-toggleable__control sk-hidden--visually\" id=\"sk-estimator-id-11\" type=\"checkbox\" checked><label for=\"sk-estimator-id-11\" class=\"sk-toggleable__label sk-toggleable__label-arrow\">TfidfVectorizer</label><div class=\"sk-toggleable__content\"><pre>TfidfVectorizer(max_df=5000, max_features=10000, min_df=10, ngram_range=(1, 2))</pre></div></div></div></div></div>"
      ],
      "text/plain": [
       "TfidfVectorizer(max_df=5000, max_features=10000, min_df=10, ngram_range=(1, 2))"
      ]
     },
     "execution_count": 313,
     "metadata": {},
     "output_type": "execute_result"
    }
   ],
   "source": [
    "vectorizer"
   ]
  },
  {
   "cell_type": "code",
   "execution_count": 314,
   "id": "12be04fc",
   "metadata": {},
   "outputs": [
    {
     "name": "stderr",
     "output_type": "stream",
     "text": [
      "C:\\Users\\Admin\\anaconda3\\lib\\site-packages\\sklearn\\utils\\deprecation.py:87: FutureWarning: Function get_feature_names is deprecated; get_feature_names is deprecated in 1.0 and will be removed in 1.2. Please use get_feature_names_out instead.\n",
      "  warnings.warn(msg, category=FutureWarning)\n"
     ]
    },
    {
     "data": {
      "text/html": [
       "<div>\n",
       "<style scoped>\n",
       "    .dataframe tbody tr th:only-of-type {\n",
       "        vertical-align: middle;\n",
       "    }\n",
       "\n",
       "    .dataframe tbody tr th {\n",
       "        vertical-align: top;\n",
       "    }\n",
       "\n",
       "    .dataframe thead th {\n",
       "        text-align: right;\n",
       "    }\n",
       "</style>\n",
       "<table border=\"1\" class=\"dataframe\">\n",
       "  <thead>\n",
       "    <tr style=\"text-align: right;\">\n",
       "      <th></th>\n",
       "      <th>aa</th>\n",
       "      <th>aa batteries</th>\n",
       "      <th>aaa</th>\n",
       "      <th>aaa batteries</th>\n",
       "      <th>aart</th>\n",
       "      <th>aart store</th>\n",
       "      <th>abaya</th>\n",
       "      <th>abc</th>\n",
       "      <th>abdomen</th>\n",
       "      <th>ability</th>\n",
       "      <th>...</th>\n",
       "      <th>zip</th>\n",
       "      <th>zip closure</th>\n",
       "      <th>zipper</th>\n",
       "      <th>zippered</th>\n",
       "      <th>zippers</th>\n",
       "      <th>zone</th>\n",
       "      <th>zoom</th>\n",
       "      <th>zoom lens</th>\n",
       "      <th>zoook</th>\n",
       "      <th>zoook rocker</th>\n",
       "    </tr>\n",
       "  </thead>\n",
       "  <tbody>\n",
       "    <tr>\n",
       "      <th>0</th>\n",
       "      <td>0.0</td>\n",
       "      <td>0.0</td>\n",
       "      <td>0.0</td>\n",
       "      <td>0.0</td>\n",
       "      <td>0.0</td>\n",
       "      <td>0.0</td>\n",
       "      <td>0.0</td>\n",
       "      <td>0.0</td>\n",
       "      <td>0.0</td>\n",
       "      <td>0.0</td>\n",
       "      <td>...</td>\n",
       "      <td>0.0</td>\n",
       "      <td>0.0</td>\n",
       "      <td>0.0</td>\n",
       "      <td>0.0</td>\n",
       "      <td>0.0</td>\n",
       "      <td>0.0</td>\n",
       "      <td>0.0</td>\n",
       "      <td>0.0</td>\n",
       "      <td>0.0</td>\n",
       "      <td>0.0</td>\n",
       "    </tr>\n",
       "    <tr>\n",
       "      <th>1</th>\n",
       "      <td>0.0</td>\n",
       "      <td>0.0</td>\n",
       "      <td>0.0</td>\n",
       "      <td>0.0</td>\n",
       "      <td>0.0</td>\n",
       "      <td>0.0</td>\n",
       "      <td>0.0</td>\n",
       "      <td>0.0</td>\n",
       "      <td>0.0</td>\n",
       "      <td>0.0</td>\n",
       "      <td>...</td>\n",
       "      <td>0.0</td>\n",
       "      <td>0.0</td>\n",
       "      <td>0.0</td>\n",
       "      <td>0.0</td>\n",
       "      <td>0.0</td>\n",
       "      <td>0.0</td>\n",
       "      <td>0.0</td>\n",
       "      <td>0.0</td>\n",
       "      <td>0.0</td>\n",
       "      <td>0.0</td>\n",
       "    </tr>\n",
       "    <tr>\n",
       "      <th>2</th>\n",
       "      <td>0.0</td>\n",
       "      <td>0.0</td>\n",
       "      <td>0.0</td>\n",
       "      <td>0.0</td>\n",
       "      <td>0.0</td>\n",
       "      <td>0.0</td>\n",
       "      <td>0.0</td>\n",
       "      <td>0.0</td>\n",
       "      <td>0.0</td>\n",
       "      <td>0.0</td>\n",
       "      <td>...</td>\n",
       "      <td>0.0</td>\n",
       "      <td>0.0</td>\n",
       "      <td>0.0</td>\n",
       "      <td>0.0</td>\n",
       "      <td>0.0</td>\n",
       "      <td>0.0</td>\n",
       "      <td>0.0</td>\n",
       "      <td>0.0</td>\n",
       "      <td>0.0</td>\n",
       "      <td>0.0</td>\n",
       "    </tr>\n",
       "    <tr>\n",
       "      <th>3</th>\n",
       "      <td>0.0</td>\n",
       "      <td>0.0</td>\n",
       "      <td>0.0</td>\n",
       "      <td>0.0</td>\n",
       "      <td>0.0</td>\n",
       "      <td>0.0</td>\n",
       "      <td>0.0</td>\n",
       "      <td>0.0</td>\n",
       "      <td>0.0</td>\n",
       "      <td>0.0</td>\n",
       "      <td>...</td>\n",
       "      <td>0.0</td>\n",
       "      <td>0.0</td>\n",
       "      <td>0.0</td>\n",
       "      <td>0.0</td>\n",
       "      <td>0.0</td>\n",
       "      <td>0.0</td>\n",
       "      <td>0.0</td>\n",
       "      <td>0.0</td>\n",
       "      <td>0.0</td>\n",
       "      <td>0.0</td>\n",
       "    </tr>\n",
       "    <tr>\n",
       "      <th>4</th>\n",
       "      <td>0.0</td>\n",
       "      <td>0.0</td>\n",
       "      <td>0.0</td>\n",
       "      <td>0.0</td>\n",
       "      <td>0.0</td>\n",
       "      <td>0.0</td>\n",
       "      <td>0.0</td>\n",
       "      <td>0.0</td>\n",
       "      <td>0.0</td>\n",
       "      <td>0.0</td>\n",
       "      <td>...</td>\n",
       "      <td>0.0</td>\n",
       "      <td>0.0</td>\n",
       "      <td>0.0</td>\n",
       "      <td>0.0</td>\n",
       "      <td>0.0</td>\n",
       "      <td>0.0</td>\n",
       "      <td>0.0</td>\n",
       "      <td>0.0</td>\n",
       "      <td>0.0</td>\n",
       "      <td>0.0</td>\n",
       "    </tr>\n",
       "  </tbody>\n",
       "</table>\n",
       "<p>5 rows × 10000 columns</p>\n",
       "</div>"
      ],
      "text/plain": [
       "    aa  aa batteries  aaa  aaa batteries  aart  aart store  abaya  abc  \\\n",
       "0  0.0           0.0  0.0            0.0   0.0         0.0    0.0  0.0   \n",
       "1  0.0           0.0  0.0            0.0   0.0         0.0    0.0  0.0   \n",
       "2  0.0           0.0  0.0            0.0   0.0         0.0    0.0  0.0   \n",
       "3  0.0           0.0  0.0            0.0   0.0         0.0    0.0  0.0   \n",
       "4  0.0           0.0  0.0            0.0   0.0         0.0    0.0  0.0   \n",
       "\n",
       "   abdomen  ability  ...  zip  zip closure  zipper  zippered  zippers  zone  \\\n",
       "0      0.0      0.0  ...  0.0          0.0     0.0       0.0      0.0   0.0   \n",
       "1      0.0      0.0  ...  0.0          0.0     0.0       0.0      0.0   0.0   \n",
       "2      0.0      0.0  ...  0.0          0.0     0.0       0.0      0.0   0.0   \n",
       "3      0.0      0.0  ...  0.0          0.0     0.0       0.0      0.0   0.0   \n",
       "4      0.0      0.0  ...  0.0          0.0     0.0       0.0      0.0   0.0   \n",
       "\n",
       "   zoom  zoom lens  zoook  zoook rocker  \n",
       "0   0.0        0.0    0.0           0.0  \n",
       "1   0.0        0.0    0.0           0.0  \n",
       "2   0.0        0.0    0.0           0.0  \n",
       "3   0.0        0.0    0.0           0.0  \n",
       "4   0.0        0.0    0.0           0.0  \n",
       "\n",
       "[5 rows x 10000 columns]"
      ]
     },
     "execution_count": 314,
     "metadata": {},
     "output_type": "execute_result"
    }
   ],
   "source": [
    "## Extra Knowledge Bytes (TF-IDF)\n",
    "\n",
    "# Let's see how our TD-IDF looks like (sorting by the feature named 5s)\n",
    "# Creating the TF-IDF with the feature names given by the TFIDF vectorizer, sorting it for unerstanding.\n",
    "# Let's chain the .head() method on the DataFrame to inspect the first few observations of the TD-IDF sorted by '5s'\n",
    "pd.DataFrame(processed_features, columns = vectorizer.get_feature_names()).head()"
   ]
  },
  {
   "cell_type": "code",
   "execution_count": 315,
   "id": "494ff17a",
   "metadata": {},
   "outputs": [
    {
     "name": "stderr",
     "output_type": "stream",
     "text": [
      "C:\\Users\\Admin\\anaconda3\\lib\\site-packages\\sklearn\\utils\\deprecation.py:87: FutureWarning: Function get_feature_names is deprecated; get_feature_names is deprecated in 1.0 and will be removed in 1.2. Please use get_feature_names_out instead.\n",
      "  warnings.warn(msg, category=FutureWarning)\n"
     ]
    },
    {
     "data": {
      "text/plain": [
       "(27793, 10000)"
      ]
     },
     "execution_count": 315,
     "metadata": {},
     "output_type": "execute_result"
    }
   ],
   "source": [
    "pd.DataFrame(processed_features, columns = vectorizer.get_feature_names()).shape"
   ]
  },
  {
   "cell_type": "markdown",
   "id": "79d4bdfa",
   "metadata": {},
   "source": [
    "#### Train-Test split"
   ]
  },
  {
   "cell_type": "code",
   "execution_count": 316,
   "id": "eed5506f",
   "metadata": {},
   "outputs": [],
   "source": [
    "from sklearn.model_selection import train_test_split\n",
    "\n",
    "X_train, X_test, Y_train, Y_test = train_test_split(processed_features, labels, test_size=0.3, random_state=0)"
   ]
  },
  {
   "cell_type": "code",
   "execution_count": 317,
   "id": "846d6f0f",
   "metadata": {},
   "outputs": [],
   "source": [
    "# To model the Gaussian Navie Bayes classifier\n",
    "from sklearn.naive_bayes import GaussianNB\n",
    "from sklearn import metrics\n",
    "from sklearn.metrics import roc_auc_score,roc_curve,classification_report,confusion_matrix,plot_confusion_matrix"
   ]
  },
  {
   "cell_type": "markdown",
   "id": "8c27ecde",
   "metadata": {},
   "source": [
    "#### Gaussian Naive Bayes Model"
   ]
  },
  {
   "cell_type": "code",
   "execution_count": 318,
   "id": "4db567b3",
   "metadata": {},
   "outputs": [
    {
     "data": {
      "text/html": [
       "<style>#sk-container-id-12 {color: black;background-color: white;}#sk-container-id-12 pre{padding: 0;}#sk-container-id-12 div.sk-toggleable {background-color: white;}#sk-container-id-12 label.sk-toggleable__label {cursor: pointer;display: block;width: 100%;margin-bottom: 0;padding: 0.3em;box-sizing: border-box;text-align: center;}#sk-container-id-12 label.sk-toggleable__label-arrow:before {content: \"▸\";float: left;margin-right: 0.25em;color: #696969;}#sk-container-id-12 label.sk-toggleable__label-arrow:hover:before {color: black;}#sk-container-id-12 div.sk-estimator:hover label.sk-toggleable__label-arrow:before {color: black;}#sk-container-id-12 div.sk-toggleable__content {max-height: 0;max-width: 0;overflow: hidden;text-align: left;background-color: #f0f8ff;}#sk-container-id-12 div.sk-toggleable__content pre {margin: 0.2em;color: black;border-radius: 0.25em;background-color: #f0f8ff;}#sk-container-id-12 input.sk-toggleable__control:checked~div.sk-toggleable__content {max-height: 200px;max-width: 100%;overflow: auto;}#sk-container-id-12 input.sk-toggleable__control:checked~label.sk-toggleable__label-arrow:before {content: \"▾\";}#sk-container-id-12 div.sk-estimator input.sk-toggleable__control:checked~label.sk-toggleable__label {background-color: #d4ebff;}#sk-container-id-12 div.sk-label input.sk-toggleable__control:checked~label.sk-toggleable__label {background-color: #d4ebff;}#sk-container-id-12 input.sk-hidden--visually {border: 0;clip: rect(1px 1px 1px 1px);clip: rect(1px, 1px, 1px, 1px);height: 1px;margin: -1px;overflow: hidden;padding: 0;position: absolute;width: 1px;}#sk-container-id-12 div.sk-estimator {font-family: monospace;background-color: #f0f8ff;border: 1px dotted black;border-radius: 0.25em;box-sizing: border-box;margin-bottom: 0.5em;}#sk-container-id-12 div.sk-estimator:hover {background-color: #d4ebff;}#sk-container-id-12 div.sk-parallel-item::after {content: \"\";width: 100%;border-bottom: 1px solid gray;flex-grow: 1;}#sk-container-id-12 div.sk-label:hover label.sk-toggleable__label {background-color: #d4ebff;}#sk-container-id-12 div.sk-serial::before {content: \"\";position: absolute;border-left: 1px solid gray;box-sizing: border-box;top: 0;bottom: 0;left: 50%;z-index: 0;}#sk-container-id-12 div.sk-serial {display: flex;flex-direction: column;align-items: center;background-color: white;padding-right: 0.2em;padding-left: 0.2em;position: relative;}#sk-container-id-12 div.sk-item {position: relative;z-index: 1;}#sk-container-id-12 div.sk-parallel {display: flex;align-items: stretch;justify-content: center;background-color: white;position: relative;}#sk-container-id-12 div.sk-item::before, #sk-container-id-12 div.sk-parallel-item::before {content: \"\";position: absolute;border-left: 1px solid gray;box-sizing: border-box;top: 0;bottom: 0;left: 50%;z-index: -1;}#sk-container-id-12 div.sk-parallel-item {display: flex;flex-direction: column;z-index: 1;position: relative;background-color: white;}#sk-container-id-12 div.sk-parallel-item:first-child::after {align-self: flex-end;width: 50%;}#sk-container-id-12 div.sk-parallel-item:last-child::after {align-self: flex-start;width: 50%;}#sk-container-id-12 div.sk-parallel-item:only-child::after {width: 0;}#sk-container-id-12 div.sk-dashed-wrapped {border: 1px dashed gray;margin: 0 0.4em 0.5em 0.4em;box-sizing: border-box;padding-bottom: 0.4em;background-color: white;}#sk-container-id-12 div.sk-label label {font-family: monospace;font-weight: bold;display: inline-block;line-height: 1.2em;}#sk-container-id-12 div.sk-label-container {text-align: center;}#sk-container-id-12 div.sk-container {/* jupyter's `normalize.less` sets `[hidden] { display: none; }` but bootstrap.min.css set `[hidden] { display: none !important; }` so we also need the `!important` here to be able to override the default hidden behavior on the sphinx rendered scikit-learn.org. See: https://github.com/scikit-learn/scikit-learn/issues/21755 */display: inline-block !important;position: relative;}#sk-container-id-12 div.sk-text-repr-fallback {display: none;}</style><div id=\"sk-container-id-12\" class=\"sk-top-container\"><div class=\"sk-text-repr-fallback\"><pre>GaussianNB()</pre><b>In a Jupyter environment, please rerun this cell to show the HTML representation or trust the notebook. <br />On GitHub, the HTML representation is unable to render, please try loading this page with nbviewer.org.</b></div><div class=\"sk-container\" hidden><div class=\"sk-item\"><div class=\"sk-estimator sk-toggleable\"><input class=\"sk-toggleable__control sk-hidden--visually\" id=\"sk-estimator-id-12\" type=\"checkbox\" checked><label for=\"sk-estimator-id-12\" class=\"sk-toggleable__label sk-toggleable__label-arrow\">GaussianNB</label><div class=\"sk-toggleable__content\"><pre>GaussianNB()</pre></div></div></div></div></div>"
      ],
      "text/plain": [
       "GaussianNB()"
      ]
     },
     "execution_count": 318,
     "metadata": {},
     "output_type": "execute_result"
    }
   ],
   "source": [
    "NB_model = GaussianNB()\n",
    "NB_model.fit(X_train, Y_train)"
   ]
  },
  {
   "cell_type": "code",
   "execution_count": 319,
   "id": "50795c1a",
   "metadata": {},
   "outputs": [
    {
     "name": "stderr",
     "output_type": "stream",
     "text": [
      "C:\\Users\\Admin\\anaconda3\\lib\\site-packages\\sklearn\\utils\\deprecation.py:87: FutureWarning: Function plot_confusion_matrix is deprecated; Function `plot_confusion_matrix` is deprecated in 1.0 and will be removed in 1.2. Use one of the class methods: ConfusionMatrixDisplay.from_predictions or ConfusionMatrixDisplay.from_estimator.\n",
      "  warnings.warn(msg, category=FutureWarning)\n"
     ]
    },
    {
     "data": {
      "image/png": "[encoded data removed]",
      "text/plain": [
       "<Figure size 432x288 with 2 Axes>"
      ]
     },
     "metadata": {},
     "output_type": "display_data"
    }
   ],
   "source": [
    "sns.set(style=\"white\")\n",
    "plot_confusion_matrix(NB_model,X_train,Y_train);\n",
    "plt.title('Confusion Matrix for Training Data')\n",
    "plt.xticks(rotation=90)\n",
    "plt.show()"
   ]
  },
  {
   "cell_type": "code",
   "execution_count": 320,
   "id": "32def31d",
   "metadata": {},
   "outputs": [
    {
     "name": "stdout",
     "output_type": "stream",
     "text": [
      "The accuracy of the training model 0.947005911076844 \n",
      "\n",
      "                        precision    recall  f1-score   support\n",
      "\n",
      "                 Books       0.96      0.94      0.95      4359\n",
      "Clothing & Accessories       0.91      1.00      0.95      3946\n",
      "           Electronics       0.90      0.98      0.94      3718\n",
      "             Household       0.99      0.91      0.95      7432\n",
      "\n",
      "              accuracy                           0.95     19455\n",
      "             macro avg       0.94      0.96      0.95     19455\n",
      "          weighted avg       0.95      0.95      0.95     19455\n",
      "\n"
     ]
    }
   ],
   "source": [
    "Y_train_predict = NB_model.predict(X_train)\n",
    "model_score = NB_model.score(X_train, Y_train)                      ## Accuracy\n",
    "print('The accuracy of the training model {} \\n'.format(model_score)) \n",
    "print(metrics.classification_report(Y_train, Y_train_predict))     ## classification_report"
   ]
  },
  {
   "cell_type": "code",
   "execution_count": 321,
   "id": "d6125a72",
   "metadata": {},
   "outputs": [
    {
     "name": "stderr",
     "output_type": "stream",
     "text": [
      "C:\\Users\\Admin\\anaconda3\\lib\\site-packages\\sklearn\\utils\\deprecation.py:87: FutureWarning: Function plot_confusion_matrix is deprecated; Function `plot_confusion_matrix` is deprecated in 1.0 and will be removed in 1.2. Use one of the class methods: ConfusionMatrixDisplay.from_predictions or ConfusionMatrixDisplay.from_estimator.\n",
      "  warnings.warn(msg, category=FutureWarning)\n"
     ]
    },
    {
     "data": {
      "image/png": "[encoded data removed]",
      "text/plain": [
       "<Figure size 432x288 with 2 Axes>"
      ]
     },
     "metadata": {},
     "output_type": "display_data"
    }
   ],
   "source": [
    "sns.set(style=\"white\")\n",
    "plot_confusion_matrix(NB_model,X_test,Y_test);\n",
    "plt.title('Confusion Matrix for Training Data')\n",
    "plt.xticks(rotation=90)\n",
    "plt.show()"
   ]
  },
  {
   "cell_type": "code",
   "execution_count": 322,
   "id": "44dccb7b",
   "metadata": {},
   "outputs": [
    {
     "name": "stdout",
     "output_type": "stream",
     "text": [
      "The accuracy of the test model 0.9118493643559606 \n",
      "\n",
      "                        precision    recall  f1-score   support\n",
      "\n",
      "                 Books       0.93      0.90      0.92      1890\n",
      "Clothing & Accessories       0.89      0.94      0.92      1727\n",
      "           Electronics       0.88      0.93      0.90      1590\n",
      "             Household       0.93      0.90      0.91      3131\n",
      "\n",
      "              accuracy                           0.91      8338\n",
      "             macro avg       0.91      0.92      0.91      8338\n",
      "          weighted avg       0.91      0.91      0.91      8338\n",
      "\n"
     ]
    }
   ],
   "source": [
    "## Performance Matrix on test data set\n",
    "Y_test_predict = NB_model.predict(X_test)\n",
    "model_score = NB_model.score(X_test, Y_test)                    ## Accuracy\n",
    "print('The accuracy of the test model {} \\n'.format(model_score)) \n",
    "print(metrics.classification_report(Y_test, Y_test_predict))    ## classification_report"
   ]
  },
  {
   "cell_type": "markdown",
   "id": "c6372b2f",
   "metadata": {},
   "source": [
    "### Random Forest"
   ]
  },
  {
   "cell_type": "code",
   "execution_count": 325,
   "id": "abd7d24d",
   "metadata": {},
   "outputs": [],
   "source": [
    "from sklearn.ensemble import RandomForestClassifier\n",
    "from sklearn.model_selection import train_test_split,GridSearchCV"
   ]
  },
  {
   "cell_type": "code",
   "execution_count": 342,
   "id": "1c328a0f",
   "metadata": {},
   "outputs": [],
   "source": [
    "param_grid_rfcl = {\n",
    "    'max_depth': [7],\n",
    "    'max_features': [166],\n",
    "    'min_samples_leaf': [15],\n",
    "    'min_samples_split': [50],\n",
    "    'n_estimators': [100]\n",
    "}\n",
    "\n",
    "rfcl = RandomForestClassifier(random_state=1)\n",
    "grid_search_rfcl= GridSearchCV(estimator = rfcl, param_grid = param_grid_rfcl,cv=5)"
   ]
  },
  {
   "cell_type": "code",
   "execution_count": 343,
   "id": "f81d03bc",
   "metadata": {},
   "outputs": [
    {
     "data": {
      "text/html": [
       "<style>#sk-container-id-15 {color: black;background-color: white;}#sk-container-id-15 pre{padding: 0;}#sk-container-id-15 div.sk-toggleable {background-color: white;}#sk-container-id-15 label.sk-toggleable__label {cursor: pointer;display: block;width: 100%;margin-bottom: 0;padding: 0.3em;box-sizing: border-box;text-align: center;}#sk-container-id-15 label.sk-toggleable__label-arrow:before {content: \"▸\";float: left;margin-right: 0.25em;color: #696969;}#sk-container-id-15 label.sk-toggleable__label-arrow:hover:before {color: black;}#sk-container-id-15 div.sk-estimator:hover label.sk-toggleable__label-arrow:before {color: black;}#sk-container-id-15 div.sk-toggleable__content {max-height: 0;max-width: 0;overflow: hidden;text-align: left;background-color: #f0f8ff;}#sk-container-id-15 div.sk-toggleable__content pre {margin: 0.2em;color: black;border-radius: 0.25em;background-color: #f0f8ff;}#sk-container-id-15 input.sk-toggleable__control:checked~div.sk-toggleable__content {max-height: 200px;max-width: 100%;overflow: auto;}#sk-container-id-15 input.sk-toggleable__control:checked~label.sk-toggleable__label-arrow:before {content: \"▾\";}#sk-container-id-15 div.sk-estimator input.sk-toggleable__control:checked~label.sk-toggleable__label {background-color: #d4ebff;}#sk-container-id-15 div.sk-label input.sk-toggleable__control:checked~label.sk-toggleable__label {background-color: #d4ebff;}#sk-container-id-15 input.sk-hidden--visually {border: 0;clip: rect(1px 1px 1px 1px);clip: rect(1px, 1px, 1px, 1px);height: 1px;margin: -1px;overflow: hidden;padding: 0;position: absolute;width: 1px;}#sk-container-id-15 div.sk-estimator {font-family: monospace;background-color: #f0f8ff;border: 1px dotted black;border-radius: 0.25em;box-sizing: border-box;margin-bottom: 0.5em;}#sk-container-id-15 div.sk-estimator:hover {background-color: #d4ebff;}#sk-container-id-15 div.sk-parallel-item::after {content: \"\";width: 100%;border-bottom: 1px solid gray;flex-grow: 1;}#sk-container-id-15 div.sk-label:hover label.sk-toggleable__label {background-color: #d4ebff;}#sk-container-id-15 div.sk-serial::before {content: \"\";position: absolute;border-left: 1px solid gray;box-sizing: border-box;top: 0;bottom: 0;left: 50%;z-index: 0;}#sk-container-id-15 div.sk-serial {display: flex;flex-direction: column;align-items: center;background-color: white;padding-right: 0.2em;padding-left: 0.2em;position: relative;}#sk-container-id-15 div.sk-item {position: relative;z-index: 1;}#sk-container-id-15 div.sk-parallel {display: flex;align-items: stretch;justify-content: center;background-color: white;position: relative;}#sk-container-id-15 div.sk-item::before, #sk-container-id-15 div.sk-parallel-item::before {content: \"\";position: absolute;border-left: 1px solid gray;box-sizing: border-box;top: 0;bottom: 0;left: 50%;z-index: -1;}#sk-container-id-15 div.sk-parallel-item {display: flex;flex-direction: column;z-index: 1;position: relative;background-color: white;}#sk-container-id-15 div.sk-parallel-item:first-child::after {align-self: flex-end;width: 50%;}#sk-container-id-15 div.sk-parallel-item:last-child::after {align-self: flex-start;width: 50%;}#sk-container-id-15 div.sk-parallel-item:only-child::after {width: 0;}#sk-container-id-15 div.sk-dashed-wrapped {border: 1px dashed gray;margin: 0 0.4em 0.5em 0.4em;box-sizing: border-box;padding-bottom: 0.4em;background-color: white;}#sk-container-id-15 div.sk-label label {font-family: monospace;font-weight: bold;display: inline-block;line-height: 1.2em;}#sk-container-id-15 div.sk-label-container {text-align: center;}#sk-container-id-15 div.sk-container {/* jupyter's `normalize.less` sets `[hidden] { display: none; }` but bootstrap.min.css set `[hidden] { display: none !important; }` so we also need the `!important` here to be able to override the default hidden behavior on the sphinx rendered scikit-learn.org. See: https://github.com/scikit-learn/scikit-learn/issues/21755 */display: inline-block !important;position: relative;}#sk-container-id-15 div.sk-text-repr-fallback {display: none;}</style><div id=\"sk-container-id-15\" class=\"sk-top-container\"><div class=\"sk-text-repr-fallback\"><pre>GridSearchCV(cv=5, estimator=RandomForestClassifier(random_state=1),\n",
       "             param_grid={&#x27;max_depth&#x27;: [7], &#x27;max_features&#x27;: [166],\n",
       "                         &#x27;min_samples_leaf&#x27;: [15], &#x27;min_samples_split&#x27;: [50],\n",
       "                         &#x27;n_estimators&#x27;: [100]})</pre><b>In a Jupyter environment, please rerun this cell to show the HTML representation or trust the notebook. <br />On GitHub, the HTML representation is unable to render, please try loading this page with nbviewer.org.</b></div><div class=\"sk-container\" hidden><div class=\"sk-item sk-dashed-wrapped\"><div class=\"sk-label-container\"><div class=\"sk-label sk-toggleable\"><input class=\"sk-toggleable__control sk-hidden--visually\" id=\"sk-estimator-id-17\" type=\"checkbox\" ><label for=\"sk-estimator-id-17\" class=\"sk-toggleable__label sk-toggleable__label-arrow\">GridSearchCV</label><div class=\"sk-toggleable__content\"><pre>GridSearchCV(cv=5, estimator=RandomForestClassifier(random_state=1),\n",
       "             param_grid={&#x27;max_depth&#x27;: [7], &#x27;max_features&#x27;: [166],\n",
       "                         &#x27;min_samples_leaf&#x27;: [15], &#x27;min_samples_split&#x27;: [50],\n",
       "                         &#x27;n_estimators&#x27;: [100]})</pre></div></div></div><div class=\"sk-parallel\"><div class=\"sk-parallel-item\"><div class=\"sk-item\"><div class=\"sk-label-container\"><div class=\"sk-label sk-toggleable\"><input class=\"sk-toggleable__control sk-hidden--visually\" id=\"sk-estimator-id-18\" type=\"checkbox\" ><label for=\"sk-estimator-id-18\" class=\"sk-toggleable__label sk-toggleable__label-arrow\">estimator: RandomForestClassifier</label><div class=\"sk-toggleable__content\"><pre>RandomForestClassifier(random_state=1)</pre></div></div></div><div class=\"sk-serial\"><div class=\"sk-item\"><div class=\"sk-estimator sk-toggleable\"><input class=\"sk-toggleable__control sk-hidden--visually\" id=\"sk-estimator-id-19\" type=\"checkbox\" ><label for=\"sk-estimator-id-19\" class=\"sk-toggleable__label sk-toggleable__label-arrow\">RandomForestClassifier</label><div class=\"sk-toggleable__content\"><pre>RandomForestClassifier(random_state=1)</pre></div></div></div></div></div></div></div></div></div></div>"
      ],
      "text/plain": [
       "GridSearchCV(cv=5, estimator=RandomForestClassifier(random_state=1),\n",
       "             param_grid={'max_depth': [7], 'max_features': [166],\n",
       "                         'min_samples_leaf': [15], 'min_samples_split': [50],\n",
       "                         'n_estimators': [100]})"
      ]
     },
     "execution_count": 343,
     "metadata": {},
     "output_type": "execute_result"
    }
   ],
   "source": [
    "grid_search_rfcl.fit(X_train,Y_train)"
   ]
  },
  {
   "cell_type": "code",
   "execution_count": 344,
   "id": "a6fbd89b",
   "metadata": {},
   "outputs": [
    {
     "name": "stdout",
     "output_type": "stream",
     "text": [
      "{'max_depth': 7, 'max_features': 166, 'min_samples_leaf': 15, 'min_samples_split': 50, 'n_estimators': 100}\n"
     ]
    }
   ],
   "source": [
    "print(grid_search_rfcl.best_params_)"
   ]
  },
  {
   "cell_type": "code",
   "execution_count": 345,
   "id": "f987c98e",
   "metadata": {},
   "outputs": [
    {
     "data": {
      "text/html": [
       "<style>#sk-container-id-16 {color: black;background-color: white;}#sk-container-id-16 pre{padding: 0;}#sk-container-id-16 div.sk-toggleable {background-color: white;}#sk-container-id-16 label.sk-toggleable__label {cursor: pointer;display: block;width: 100%;margin-bottom: 0;padding: 0.3em;box-sizing: border-box;text-align: center;}#sk-container-id-16 label.sk-toggleable__label-arrow:before {content: \"▸\";float: left;margin-right: 0.25em;color: #696969;}#sk-container-id-16 label.sk-toggleable__label-arrow:hover:before {color: black;}#sk-container-id-16 div.sk-estimator:hover label.sk-toggleable__label-arrow:before {color: black;}#sk-container-id-16 div.sk-toggleable__content {max-height: 0;max-width: 0;overflow: hidden;text-align: left;background-color: #f0f8ff;}#sk-container-id-16 div.sk-toggleable__content pre {margin: 0.2em;color: black;border-radius: 0.25em;background-color: #f0f8ff;}#sk-container-id-16 input.sk-toggleable__control:checked~div.sk-toggleable__content {max-height: 200px;max-width: 100%;overflow: auto;}#sk-container-id-16 input.sk-toggleable__control:checked~label.sk-toggleable__label-arrow:before {content: \"▾\";}#sk-container-id-16 div.sk-estimator input.sk-toggleable__control:checked~label.sk-toggleable__label {background-color: #d4ebff;}#sk-container-id-16 div.sk-label input.sk-toggleable__control:checked~label.sk-toggleable__label {background-color: #d4ebff;}#sk-container-id-16 input.sk-hidden--visually {border: 0;clip: rect(1px 1px 1px 1px);clip: rect(1px, 1px, 1px, 1px);height: 1px;margin: -1px;overflow: hidden;padding: 0;position: absolute;width: 1px;}#sk-container-id-16 div.sk-estimator {font-family: monospace;background-color: #f0f8ff;border: 1px dotted black;border-radius: 0.25em;box-sizing: border-box;margin-bottom: 0.5em;}#sk-container-id-16 div.sk-estimator:hover {background-color: #d4ebff;}#sk-container-id-16 div.sk-parallel-item::after {content: \"\";width: 100%;border-bottom: 1px solid gray;flex-grow: 1;}#sk-container-id-16 div.sk-label:hover label.sk-toggleable__label {background-color: #d4ebff;}#sk-container-id-16 div.sk-serial::before {content: \"\";position: absolute;border-left: 1px solid gray;box-sizing: border-box;top: 0;bottom: 0;left: 50%;z-index: 0;}#sk-container-id-16 div.sk-serial {display: flex;flex-direction: column;align-items: center;background-color: white;padding-right: 0.2em;padding-left: 0.2em;position: relative;}#sk-container-id-16 div.sk-item {position: relative;z-index: 1;}#sk-container-id-16 div.sk-parallel {display: flex;align-items: stretch;justify-content: center;background-color: white;position: relative;}#sk-container-id-16 div.sk-item::before, #sk-container-id-16 div.sk-parallel-item::before {content: \"\";position: absolute;border-left: 1px solid gray;box-sizing: border-box;top: 0;bottom: 0;left: 50%;z-index: -1;}#sk-container-id-16 div.sk-parallel-item {display: flex;flex-direction: column;z-index: 1;position: relative;background-color: white;}#sk-container-id-16 div.sk-parallel-item:first-child::after {align-self: flex-end;width: 50%;}#sk-container-id-16 div.sk-parallel-item:last-child::after {align-self: flex-start;width: 50%;}#sk-container-id-16 div.sk-parallel-item:only-child::after {width: 0;}#sk-container-id-16 div.sk-dashed-wrapped {border: 1px dashed gray;margin: 0 0.4em 0.5em 0.4em;box-sizing: border-box;padding-bottom: 0.4em;background-color: white;}#sk-container-id-16 div.sk-label label {font-family: monospace;font-weight: bold;display: inline-block;line-height: 1.2em;}#sk-container-id-16 div.sk-label-container {text-align: center;}#sk-container-id-16 div.sk-container {/* jupyter's `normalize.less` sets `[hidden] { display: none; }` but bootstrap.min.css set `[hidden] { display: none !important; }` so we also need the `!important` here to be able to override the default hidden behavior on the sphinx rendered scikit-learn.org. See: https://github.com/scikit-learn/scikit-learn/issues/21755 */display: inline-block !important;position: relative;}#sk-container-id-16 div.sk-text-repr-fallback {display: none;}</style><div id=\"sk-container-id-16\" class=\"sk-top-container\"><div class=\"sk-text-repr-fallback\"><pre>RandomForestClassifier(max_depth=7, max_features=166, min_samples_leaf=15,\n",
       "                       min_samples_split=50, random_state=1)</pre><b>In a Jupyter environment, please rerun this cell to show the HTML representation or trust the notebook. <br />On GitHub, the HTML representation is unable to render, please try loading this page with nbviewer.org.</b></div><div class=\"sk-container\" hidden><div class=\"sk-item\"><div class=\"sk-estimator sk-toggleable\"><input class=\"sk-toggleable__control sk-hidden--visually\" id=\"sk-estimator-id-20\" type=\"checkbox\" checked><label for=\"sk-estimator-id-20\" class=\"sk-toggleable__label sk-toggleable__label-arrow\">RandomForestClassifier</label><div class=\"sk-toggleable__content\"><pre>RandomForestClassifier(max_depth=7, max_features=166, min_samples_leaf=15,\n",
       "                       min_samples_split=50, random_state=1)</pre></div></div></div></div></div>"
      ],
      "text/plain": [
       "RandomForestClassifier(max_depth=7, max_features=166, min_samples_leaf=15,\n",
       "                       min_samples_split=50, random_state=1)"
      ]
     },
     "execution_count": 345,
     "metadata": {},
     "output_type": "execute_result"
    }
   ],
   "source": [
    "best_grid_rfcl = grid_search_rfcl.best_estimator_\n",
    "best_grid_rfcl"
   ]
  },
  {
   "cell_type": "code",
   "execution_count": 346,
   "id": "23a8deb5",
   "metadata": {},
   "outputs": [
    {
     "name": "stderr",
     "output_type": "stream",
     "text": [
      "C:\\Users\\Admin\\anaconda3\\lib\\site-packages\\sklearn\\utils\\deprecation.py:87: FutureWarning: Function plot_confusion_matrix is deprecated; Function `plot_confusion_matrix` is deprecated in 1.0 and will be removed in 1.2. Use one of the class methods: ConfusionMatrixDisplay.from_predictions or ConfusionMatrixDisplay.from_estimator.\n",
      "  warnings.warn(msg, category=FutureWarning)\n"
     ]
    },
    {
     "data": {
      "image/png": "[encoded data removed]",
      "text/plain": [
       "<Figure size 432x288 with 2 Axes>"
      ]
     },
     "metadata": {},
     "output_type": "display_data"
    }
   ],
   "source": [
    "sns.set(style=\"white\")\n",
    "plot_confusion_matrix(best_grid_rfcl,X_train,Y_train);\n",
    "plt.title('Confusion Matrix for Training Data')\n",
    "plt.xticks(rotation=90)\n",
    "plt.show()"
   ]
  },
  {
   "cell_type": "code",
   "execution_count": 347,
   "id": "3cb7c0b5",
   "metadata": {},
   "outputs": [
    {
     "name": "stdout",
     "output_type": "stream",
     "text": [
      "The accuracy of the training model 0.6755075815985608 \n",
      "\n",
      "                        precision    recall  f1-score   support\n",
      "\n",
      "                 Books       0.97      0.47      0.64      4359\n",
      "Clothing & Accessories       0.97      0.59      0.74      3946\n",
      "           Electronics       0.94      0.39      0.55      3718\n",
      "             Household       0.54      0.98      0.70      7432\n",
      "\n",
      "              accuracy                           0.68     19455\n",
      "             macro avg       0.86      0.61      0.66     19455\n",
      "          weighted avg       0.80      0.68      0.66     19455\n",
      "\n"
     ]
    }
   ],
   "source": [
    "Y_train_predict = best_grid_rfcl.predict(X_train)\n",
    "model_score = best_grid_rfcl.score(X_train, Y_train)                      ## Accuracy\n",
    "print('The accuracy of the training model {} \\n'.format(model_score)) \n",
    "print(metrics.classification_report(Y_train, Y_train_predict))     ## classification_report"
   ]
  },
  {
   "cell_type": "code",
   "execution_count": 348,
   "id": "3a213e58",
   "metadata": {},
   "outputs": [
    {
     "name": "stderr",
     "output_type": "stream",
     "text": [
      "C:\\Users\\Admin\\anaconda3\\lib\\site-packages\\sklearn\\utils\\deprecation.py:87: FutureWarning: Function plot_confusion_matrix is deprecated; Function `plot_confusion_matrix` is deprecated in 1.0 and will be removed in 1.2. Use one of the class methods: ConfusionMatrixDisplay.from_predictions or ConfusionMatrixDisplay.from_estimator.\n",
      "  warnings.warn(msg, category=FutureWarning)\n"
     ]
    },
    {
     "data": {
      "image/png": "[encoded data removed]",
      "text/plain": [
       "<Figure size 432x288 with 2 Axes>"
      ]
     },
     "metadata": {},
     "output_type": "display_data"
    }
   ],
   "source": [
    "sns.set(style=\"white\")\n",
    "plot_confusion_matrix(best_grid_rfcl,X_test,Y_test);\n",
    "plt.title('Confusion Matrix for Training Data')\n",
    "plt.xticks(rotation=90)\n",
    "plt.show()"
   ]
  },
  {
   "cell_type": "code",
   "execution_count": 349,
   "id": "1788e4ce",
   "metadata": {},
   "outputs": [
    {
     "name": "stdout",
     "output_type": "stream",
     "text": [
      "The accuracy of the test model 0.6691053010314224 \n",
      "\n",
      "                        precision    recall  f1-score   support\n",
      "\n",
      "                 Books       0.97      0.46      0.63      1890\n",
      "Clothing & Accessories       0.97      0.58      0.73      1727\n",
      "           Electronics       0.95      0.40      0.56      1590\n",
      "             Household       0.54      0.98      0.69      3131\n",
      "\n",
      "              accuracy                           0.67      8338\n",
      "             macro avg       0.86      0.61      0.65      8338\n",
      "          weighted avg       0.80      0.67      0.66      8338\n",
      "\n"
     ]
    }
   ],
   "source": [
    "## Performance Matrix on test data set\n",
    "Y_test_predict = best_grid_rfcl.predict(X_test)\n",
    "model_score = best_grid_rfcl.score(X_test, Y_test)                    ## Accuracy\n",
    "print('The accuracy of the test model {} \\n'.format(model_score)) \n",
    "print(metrics.classification_report(Y_test, Y_test_predict))    ## classification_report"
   ]
  },
  {
   "cell_type": "markdown",
   "id": "9b0e85da",
   "metadata": {},
   "source": [
    "#### Inference:\n",
    "    \n",
    "Since hyper parameter tuning of the random forest model on this huge data set is computationally time intesive, we have went with just few values for grid search and the results are not very good. On further tuning of this model , we can obtain better performance metrics"
   ]
  },
  {
   "cell_type": "markdown",
   "id": "428ae077",
   "metadata": {},
   "source": [
    "# Conclusion:\n",
    "    \n",
    "    As per the above 2 models build, we can see that Gaussian Naive Bayes classifier model delivers better performance metrics than the base random forest model.\n",
    "    Tuned Random forest model, ada boost model with tuned random forest as base estimator and gradient boost with random forest as base estimator can also be used to train the data, however these are computationally time intensive."
   ]
  },
  {
   "cell_type": "code",
   "execution_count": 353,
   "id": "155833cb",
   "metadata": {},
   "outputs": [
    {
     "name": "stdout",
     "output_type": "stream",
     "text": [
      "The accuracy of the training model 0.947005911076844 \n",
      "\n",
      "                        precision    recall  f1-score   support\n",
      "\n",
      "                 Books       0.96      0.94      0.95      4359\n",
      "Clothing & Accessories       0.91      1.00      0.95      3946\n",
      "           Electronics       0.90      0.98      0.94      3718\n",
      "             Household       0.99      0.91      0.95      7432\n",
      "\n",
      "              accuracy                           0.95     19455\n",
      "             macro avg       0.94      0.96      0.95     19455\n",
      "          weighted avg       0.95      0.95      0.95     19455\n",
      "\n"
     ]
    }
   ],
   "source": [
    "#Naive Bayes performance metrics on train dataset\n",
    "Y_train_predict = NB_model.predict(X_train)\n",
    "model_score = NB_model.score(X_train, Y_train)                      ## Accuracy\n",
    "print('The accuracy of the training model {} \\n'.format(model_score)) \n",
    "print(metrics.classification_report(Y_train, Y_train_predict))     ## classification_report"
   ]
  },
  {
   "cell_type": "code",
   "execution_count": 354,
   "id": "a55d77e5",
   "metadata": {},
   "outputs": [
    {
     "name": "stdout",
     "output_type": "stream",
     "text": [
      "The accuracy of the test model 0.9118493643559606 \n",
      "\n",
      "                        precision    recall  f1-score   support\n",
      "\n",
      "                 Books       0.93      0.90      0.92      1890\n",
      "Clothing & Accessories       0.89      0.94      0.92      1727\n",
      "           Electronics       0.88      0.93      0.90      1590\n",
      "             Household       0.93      0.90      0.91      3131\n",
      "\n",
      "              accuracy                           0.91      8338\n",
      "             macro avg       0.91      0.92      0.91      8338\n",
      "          weighted avg       0.91      0.91      0.91      8338\n",
      "\n"
     ]
    }
   ],
   "source": [
    "#Naive Bayes performance metrics on test dataset\n",
    "Y_test_predict = NB_model.predict(X_test)\n",
    "model_score = NB_model.score(X_test, Y_test)                    ## Accuracy\n",
    "print('The accuracy of the test model {} \\n'.format(model_score)) \n",
    "print(metrics.classification_report(Y_test, Y_test_predict))    ## classification_report"
   ]
  }
 ],
 "metadata": {
  "kernelspec": {
   "display_name": "Python 3 (ipykernel)",
   "language": "python",
   "name": "python3"
  },
  "language_info": {
   "codemirror_mode": {
    "name": "ipython",
    "version": 3
   },
   "file_extension": ".py",
   "mimetype": "text/x-python",
   "name": "python",
   "nbconvert_exporter": "python",
   "pygments_lexer": "ipython3",
   "version": "3.9.7"
  }
 },
 "nbformat": 4,
 "nbformat_minor": 5
}
